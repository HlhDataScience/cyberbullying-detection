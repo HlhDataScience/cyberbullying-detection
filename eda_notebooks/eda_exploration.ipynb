{
 "cells": [
  {
   "cell_type": "code",
   "execution_count": 1,
   "id": "2fd5d014-a9f7-4cf5-bddb-e5fc7187dbf7",
   "metadata": {},
   "outputs": [],
   "source": [
    "import polars as pl\n"
   ]
  },
  {
   "cell_type": "code",
   "execution_count": 2,
   "id": "00b81f7a-61a5-4408-9d4c-7e699e7ad5c2",
   "metadata": {},
   "outputs": [],
   "source": [
    "df = pl.read_csv(\"1. users_data.csv\")"
   ]
  },
  {
   "cell_type": "code",
   "execution_count": 3,
   "id": "6a196ce9-0fbe-4de4-833a-51677d698486",
   "metadata": {},
   "outputs": [
    {
     "data": {
      "text/html": [
       "<div><style>\n",
       ".dataframe > thead > tr,\n",
       ".dataframe > tbody > tr {\n",
       "  text-align: right;\n",
       "  white-space: pre-wrap;\n",
       "}\n",
       "</style>\n",
       "<small>shape: (100, 5)</small><table border=\"1\" class=\"dataframe\"><thead><tr><th>UserID</th><th>Age</th><th>Gender</th><th>School Name</th><th>Grade</th></tr><tr><td>i64</td><td>i64</td><td>str</td><td>str</td><td>i64</td></tr></thead><tbody><tr><td>1</td><td>11</td><td>&quot;Others&quot;</td><td>&quot;School10&quot;</td><td>5</td></tr><tr><td>2</td><td>15</td><td>&quot;Male&quot;</td><td>&quot;School5&quot;</td><td>9</td></tr><tr><td>3</td><td>11</td><td>&quot;Male&quot;</td><td>&quot;School13&quot;</td><td>5</td></tr><tr><td>4</td><td>17</td><td>&quot;Male&quot;</td><td>&quot;School14&quot;</td><td>11</td></tr><tr><td>5</td><td>17</td><td>&quot;Male&quot;</td><td>&quot;School6&quot;</td><td>11</td></tr><tr><td>&hellip;</td><td>&hellip;</td><td>&hellip;</td><td>&hellip;</td><td>&hellip;</td></tr><tr><td>96</td><td>13</td><td>&quot;Male&quot;</td><td>&quot;School10&quot;</td><td>7</td></tr><tr><td>97</td><td>14</td><td>&quot;Others&quot;</td><td>&quot;School8&quot;</td><td>8</td></tr><tr><td>98</td><td>10</td><td>&quot;Others&quot;</td><td>&quot;School15&quot;</td><td>4</td></tr><tr><td>99</td><td>11</td><td>&quot;Others&quot;</td><td>&quot;School1&quot;</td><td>5</td></tr><tr><td>100</td><td>17</td><td>&quot;Others&quot;</td><td>&quot;School5&quot;</td><td>11</td></tr></tbody></table></div>"
      ],
      "text/plain": [
       "shape: (100, 5)\n",
       "┌────────┬─────┬────────┬─────────────┬───────┐\n",
       "│ UserID ┆ Age ┆ Gender ┆ School Name ┆ Grade │\n",
       "│ ---    ┆ --- ┆ ---    ┆ ---         ┆ ---   │\n",
       "│ i64    ┆ i64 ┆ str    ┆ str         ┆ i64   │\n",
       "╞════════╪═════╪════════╪═════════════╪═══════╡\n",
       "│ 1      ┆ 11  ┆ Others ┆ School10    ┆ 5     │\n",
       "│ 2      ┆ 15  ┆ Male   ┆ School5     ┆ 9     │\n",
       "│ 3      ┆ 11  ┆ Male   ┆ School13    ┆ 5     │\n",
       "│ 4      ┆ 17  ┆ Male   ┆ School14    ┆ 11    │\n",
       "│ 5      ┆ 17  ┆ Male   ┆ School6     ┆ 11    │\n",
       "│ …      ┆ …   ┆ …      ┆ …           ┆ …     │\n",
       "│ 96     ┆ 13  ┆ Male   ┆ School10    ┆ 7     │\n",
       "│ 97     ┆ 14  ┆ Others ┆ School8     ┆ 8     │\n",
       "│ 98     ┆ 10  ┆ Others ┆ School15    ┆ 4     │\n",
       "│ 99     ┆ 11  ┆ Others ┆ School1     ┆ 5     │\n",
       "│ 100    ┆ 17  ┆ Others ┆ School5     ┆ 11    │\n",
       "└────────┴─────┴────────┴─────────────┴───────┘"
      ]
     },
     "execution_count": 3,
     "metadata": {},
     "output_type": "execute_result"
    }
   ],
   "source": [
    "df"
   ]
  },
  {
   "cell_type": "code",
   "execution_count": 4,
   "id": "53537a9a-e711-4698-88c1-a7f04df20590",
   "metadata": {},
   "outputs": [
    {
     "data": {
      "text/html": [
       "<div><style>\n",
       ".dataframe > thead > tr,\n",
       ".dataframe > tbody > tr {\n",
       "  text-align: right;\n",
       "  white-space: pre-wrap;\n",
       "}\n",
       "</style>\n",
       "<small>shape: (9, 6)</small><table border=\"1\" class=\"dataframe\"><thead><tr><th>statistic</th><th>UserID</th><th>Age</th><th>Gender</th><th>School Name</th><th>Grade</th></tr><tr><td>str</td><td>f64</td><td>f64</td><td>str</td><td>str</td><td>f64</td></tr></thead><tbody><tr><td>&quot;count&quot;</td><td>100.0</td><td>100.0</td><td>&quot;100&quot;</td><td>&quot;100&quot;</td><td>100.0</td></tr><tr><td>&quot;null_count&quot;</td><td>0.0</td><td>0.0</td><td>&quot;0&quot;</td><td>&quot;0&quot;</td><td>0.0</td></tr><tr><td>&quot;mean&quot;</td><td>50.5</td><td>12.66</td><td>null</td><td>null</td><td>6.66</td></tr><tr><td>&quot;std&quot;</td><td>29.011492</td><td>3.21367</td><td>null</td><td>null</td><td>3.21367</td></tr><tr><td>&quot;min&quot;</td><td>1.0</td><td>8.0</td><td>&quot;Female&quot;</td><td>&quot;School1&quot;</td><td>2.0</td></tr><tr><td>&quot;25%&quot;</td><td>26.0</td><td>10.0</td><td>null</td><td>null</td><td>4.0</td></tr><tr><td>&quot;50%&quot;</td><td>51.0</td><td>13.0</td><td>null</td><td>null</td><td>7.0</td></tr><tr><td>&quot;75%&quot;</td><td>75.0</td><td>15.0</td><td>null</td><td>null</td><td>9.0</td></tr><tr><td>&quot;max&quot;</td><td>100.0</td><td>18.0</td><td>&quot;Others&quot;</td><td>&quot;School9&quot;</td><td>12.0</td></tr></tbody></table></div>"
      ],
      "text/plain": [
       "shape: (9, 6)\n",
       "┌────────────┬───────────┬─────────┬────────┬─────────────┬─────────┐\n",
       "│ statistic  ┆ UserID    ┆ Age     ┆ Gender ┆ School Name ┆ Grade   │\n",
       "│ ---        ┆ ---       ┆ ---     ┆ ---    ┆ ---         ┆ ---     │\n",
       "│ str        ┆ f64       ┆ f64     ┆ str    ┆ str         ┆ f64     │\n",
       "╞════════════╪═══════════╪═════════╪════════╪═════════════╪═════════╡\n",
       "│ count      ┆ 100.0     ┆ 100.0   ┆ 100    ┆ 100         ┆ 100.0   │\n",
       "│ null_count ┆ 0.0       ┆ 0.0     ┆ 0      ┆ 0           ┆ 0.0     │\n",
       "│ mean       ┆ 50.5      ┆ 12.66   ┆ null   ┆ null        ┆ 6.66    │\n",
       "│ std        ┆ 29.011492 ┆ 3.21367 ┆ null   ┆ null        ┆ 3.21367 │\n",
       "│ min        ┆ 1.0       ┆ 8.0     ┆ Female ┆ School1     ┆ 2.0     │\n",
       "│ 25%        ┆ 26.0      ┆ 10.0    ┆ null   ┆ null        ┆ 4.0     │\n",
       "│ 50%        ┆ 51.0      ┆ 13.0    ┆ null   ┆ null        ┆ 7.0     │\n",
       "│ 75%        ┆ 75.0      ┆ 15.0    ┆ null   ┆ null        ┆ 9.0     │\n",
       "│ max        ┆ 100.0     ┆ 18.0    ┆ Others ┆ School9     ┆ 12.0    │\n",
       "└────────────┴───────────┴─────────┴────────┴─────────────┴─────────┘"
      ]
     },
     "execution_count": 4,
     "metadata": {},
     "output_type": "execute_result"
    }
   ],
   "source": [
    "df.describe()"
   ]
  },
  {
   "cell_type": "markdown",
   "id": "81be73f2-e8ab-4f2c-a913-914d1a06dddb",
   "metadata": {},
   "source": [
    "The data as it is shows the following:\n",
    "\n",
    "1. The ages goes from a min of 8 years to 18, so the dataset it is desing to detect cyberbulling into young ages up to teenagerhood.\n",
    "2. other categorical data columns can be further analyze by categorical encoding, such as gender. That can lead to better insights to direct the product to an specific audience.\n",
    "\n",
    "program to follow:\n",
    "\n",
    "1. transform the columns and check the statistics related to age and its distribution (histplot).\n",
    "2. compare the columns to see if there is any imbalance in data distribution by gender\n",
    "\n",
    "Prior to do that, we have to check the rest of the data.\n",
    "\n"
   ]
  },
  {
   "cell_type": "code",
   "execution_count": 5,
   "id": "e7a544c4-e153-4546-af38-9936b851c812",
   "metadata": {},
   "outputs": [
    {
     "data": {
      "text/html": [
       "<div><style>\n",
       ".dataframe > thead > tr,\n",
       ".dataframe > tbody > tr {\n",
       "  text-align: right;\n",
       "  white-space: pre-wrap;\n",
       "}\n",
       "</style>\n",
       "<small>shape: (4_950, 3)</small><table border=\"1\" class=\"dataframe\"><thead><tr><th>User 1</th><th>User 2</th><th>Peerness</th></tr><tr><td>i64</td><td>i64</td><td>f64</td></tr></thead><tbody><tr><td>1</td><td>2</td><td>0.5</td></tr><tr><td>1</td><td>3</td><td>0.766667</td></tr><tr><td>1</td><td>4</td><td>0.366667</td></tr><tr><td>1</td><td>5</td><td>0.366667</td></tr><tr><td>1</td><td>6</td><td>0.433333</td></tr><tr><td>&hellip;</td><td>&hellip;</td><td>&hellip;</td></tr><tr><td>97</td><td>99</td><td>0.566667</td></tr><tr><td>97</td><td>100</td><td>0.566667</td></tr><tr><td>98</td><td>99</td><td>0.7</td></tr><tr><td>98</td><td>100</td><td>0.3</td></tr><tr><td>99</td><td>100</td><td>0.366667</td></tr></tbody></table></div>"
      ],
      "text/plain": [
       "shape: (4_950, 3)\n",
       "┌────────┬────────┬──────────┐\n",
       "│ User 1 ┆ User 2 ┆ Peerness │\n",
       "│ ---    ┆ ---    ┆ ---      │\n",
       "│ i64    ┆ i64    ┆ f64      │\n",
       "╞════════╪════════╪══════════╡\n",
       "│ 1      ┆ 2      ┆ 0.5      │\n",
       "│ 1      ┆ 3      ┆ 0.766667 │\n",
       "│ 1      ┆ 4      ┆ 0.366667 │\n",
       "│ 1      ┆ 5      ┆ 0.366667 │\n",
       "│ 1      ┆ 6      ┆ 0.433333 │\n",
       "│ …      ┆ …      ┆ …        │\n",
       "│ 97     ┆ 99     ┆ 0.566667 │\n",
       "│ 97     ┆ 100    ┆ 0.566667 │\n",
       "│ 98     ┆ 99     ┆ 0.7      │\n",
       "│ 98     ┆ 100    ┆ 0.3      │\n",
       "│ 99     ┆ 100    ┆ 0.366667 │\n",
       "└────────┴────────┴──────────┘"
      ]
     },
     "execution_count": 5,
     "metadata": {},
     "output_type": "execute_result"
    }
   ],
   "source": [
    "df_1 = pl.read_csv(\"2. peerness_values.csv\")\n",
    "df_1"
   ]
  },
  {
   "cell_type": "markdown",
   "id": "5bd7eb12-e59c-4e62-a814-d3674ecbc3f0",
   "metadata": {},
   "source": [
    "report:\n",
    "\n",
    "WE have no information of what peerness means here. The authors of the dataset neither define it quite well. Therefore, we will check if there is some sort of meainig with more of the csv. for now, we will procide no further."
   ]
  },
  {
   "cell_type": "code",
   "execution_count": 6,
   "id": "1942649f-db64-4c57-a8b4-5dcd2bf49b77",
   "metadata": {},
   "outputs": [
    {
     "data": {
      "text/html": [
       "<div><style>\n",
       ".dataframe > thead > tr,\n",
       ".dataframe > tbody > tr {\n",
       "  text-align: right;\n",
       "  white-space: pre-wrap;\n",
       "}\n",
       "</style>\n",
       "<small>shape: (1, 2)</small><table border=\"1\" class=\"dataframe\"><thead><tr><th>No.</th><th>Message</th></tr><tr><td>u32</td><td>u32</td></tr></thead><tbody><tr><td>118828</td><td>118807</td></tr></tbody></table></div>"
      ],
      "text/plain": [
       "shape: (1, 2)\n",
       "┌────────┬─────────┐\n",
       "│ No.    ┆ Message │\n",
       "│ ---    ┆ ---     │\n",
       "│ u32    ┆ u32     │\n",
       "╞════════╪═════════╡\n",
       "│ 118828 ┆ 118807  │\n",
       "└────────┴─────────┘"
      ]
     },
     "execution_count": 6,
     "metadata": {},
     "output_type": "execute_result"
    }
   ],
   "source": [
    "df_2 = pl.read_csv(\"3. Aggressive_All.csv\")\n",
    "df_2.count()"
   ]
  },
  {
   "cell_type": "markdown",
   "id": "07637062-7575-46bc-b83d-1c5d0067b7a3",
   "metadata": {},
   "source": [
    "report:\n",
    "\n",
    "it looks like a good number of message to train. We need to check the proporcion of message compared with the total of them. In case of inbalance we will check if there is a problem. if not, we will continue with normal training after preprocessing."
   ]
  },
  {
   "cell_type": "code",
   "execution_count": 7,
   "id": "88400ac5-e740-4625-bfb7-a83ab5c4af26",
   "metadata": {},
   "outputs": [
    {
     "data": {
      "text/html": [
       "<div><style>\n",
       ".dataframe > thead > tr,\n",
       ".dataframe > tbody > tr {\n",
       "  text-align: right;\n",
       "  white-space: pre-wrap;\n",
       "}\n",
       "</style>\n",
       "<small>shape: (1, 2)</small><table border=\"1\" class=\"dataframe\"><thead><tr><th>No.</th><th>Message</th></tr><tr><td>u32</td><td>u32</td></tr></thead><tbody><tr><td>118828</td><td>118778</td></tr></tbody></table></div>"
      ],
      "text/plain": [
       "shape: (1, 2)\n",
       "┌────────┬─────────┐\n",
       "│ No.    ┆ Message │\n",
       "│ ---    ┆ ---     │\n",
       "│ u32    ┆ u32     │\n",
       "╞════════╪═════════╡\n",
       "│ 118828 ┆ 118778  │\n",
       "└────────┴─────────┘"
      ]
     },
     "execution_count": 7,
     "metadata": {},
     "output_type": "execute_result"
    }
   ],
   "source": [
    "df_3 = pl.read_csv(\"4. Non_Aggressive_All.csv\")\n",
    "df_3.count()"
   ]
  },
  {
   "cell_type": "code",
   "execution_count": 8,
   "id": "dd76ef17-da45-459a-9142-31f25f627505",
   "metadata": {},
   "outputs": [
    {
     "data": {
      "text/html": [
       "<div><style>\n",
       ".dataframe > thead > tr,\n",
       ".dataframe > tbody > tr {\n",
       "  text-align: right;\n",
       "  white-space: pre-wrap;\n",
       "}\n",
       "</style>\n",
       "<small>shape: (118_828, 2)</small><table border=\"1\" class=\"dataframe\"><thead><tr><th>No.</th><th>Message</th></tr><tr><td>i64</td><td>str</td></tr></thead><tbody><tr><td>1</td><td>&quot;zhha Islam does nothing but fr…</td></tr><tr><td>2</td><td>&quot;You dont get out much do you&quot;</td></tr><tr><td>3</td><td>&quot;MaxBlumenthal Campagnebds Blum…</td></tr><tr><td>4</td><td>&quot;No silly it isnt ITS UR MOMS a…</td></tr><tr><td>5</td><td>&quot;Yes there is even more rape in…</td></tr><tr><td>&hellip;</td><td>&hellip;</td></tr><tr><td>118824</td><td>&quot;I really hope Kat gets hit by …</td></tr><tr><td>118825</td><td>&quot;Smarojit Chakravarty I know yo…</td></tr><tr><td>118826</td><td>&quot;Is it me or are you a fucking …</td></tr><tr><td>118827</td><td>&quot;This ARTICLE sucks major cock …</td></tr><tr><td>118828</td><td>&quot;Jalal whom u want to be that a…</td></tr></tbody></table></div>"
      ],
      "text/plain": [
       "shape: (118_828, 2)\n",
       "┌────────┬─────────────────────────────────┐\n",
       "│ No.    ┆ Message                         │\n",
       "│ ---    ┆ ---                             │\n",
       "│ i64    ┆ str                             │\n",
       "╞════════╪═════════════════════════════════╡\n",
       "│ 1      ┆ zhha Islam does nothing but fr… │\n",
       "│ 2      ┆ You dont get out much do you    │\n",
       "│ 3      ┆ MaxBlumenthal Campagnebds Blum… │\n",
       "│ 4      ┆ No silly it isnt ITS UR MOMS a… │\n",
       "│ 5      ┆ Yes there is even more rape in… │\n",
       "│ …      ┆ …                               │\n",
       "│ 118824 ┆ I really hope Kat gets hit by … │\n",
       "│ 118825 ┆ Smarojit Chakravarty I know yo… │\n",
       "│ 118826 ┆ Is it me or are you a fucking … │\n",
       "│ 118827 ┆ This ARTICLE sucks major cock … │\n",
       "│ 118828 ┆ Jalal whom u want to be that a… │\n",
       "└────────┴─────────────────────────────────┘"
      ]
     },
     "execution_count": 8,
     "metadata": {},
     "output_type": "execute_result"
    }
   ],
   "source": [
    "df_2"
   ]
  },
  {
   "cell_type": "code",
   "execution_count": 9,
   "id": "94e17e11-a1c3-4941-831d-6aba0075ee7b",
   "metadata": {},
   "outputs": [
    {
     "data": {
      "text/html": [
       "<div><style>\n",
       ".dataframe > thead > tr,\n",
       ".dataframe > tbody > tr {\n",
       "  text-align: right;\n",
       "  white-space: pre-wrap;\n",
       "}\n",
       "</style>\n",
       "<small>shape: (118_828, 2)</small><table border=\"1\" class=\"dataframe\"><thead><tr><th>No.</th><th>Message</th></tr><tr><td>i64</td><td>str</td></tr></thead><tbody><tr><td>1</td><td>&quot;Libya casualty report French o…</td></tr><tr><td>2</td><td>&quot;Just for the record that IP is…</td></tr><tr><td>3</td><td>&quot;Big Brother Australia&nbsp;&nbsp;&nbsp;I see …</td></tr><tr><td>4</td><td>&quot;WikipediaFeatured portal candi…</td></tr><tr><td>5</td><td>&quot;wiki cant edit&nbsp;&nbsp;&nbsp;could you mak…</td></tr><tr><td>&hellip;</td><td>&hellip;</td></tr><tr><td>118824</td><td>&quot;VANDALIZER&nbsp;&nbsp;&nbsp;Hi this is your o…</td></tr><tr><td>118825</td><td>&quot;Its kinda both really&quot;</td></tr><tr><td>118826</td><td>&quot;This is very nonnotable as rel…</td></tr><tr><td>118827</td><td>&quot;no i just randomly made up som…</td></tr><tr><td>118828</td><td>&quot;The use of calcio instead of f…</td></tr></tbody></table></div>"
      ],
      "text/plain": [
       "shape: (118_828, 2)\n",
       "┌────────┬─────────────────────────────────┐\n",
       "│ No.    ┆ Message                         │\n",
       "│ ---    ┆ ---                             │\n",
       "│ i64    ┆ str                             │\n",
       "╞════════╪═════════════════════════════════╡\n",
       "│ 1      ┆ Libya casualty report French o… │\n",
       "│ 2      ┆ Just for the record that IP is… │\n",
       "│ 3      ┆ Big Brother Australia   I see … │\n",
       "│ 4      ┆ WikipediaFeatured portal candi… │\n",
       "│ 5      ┆ wiki cant edit   could you mak… │\n",
       "│ …      ┆ …                               │\n",
       "│ 118824 ┆ VANDALIZER   Hi this is your o… │\n",
       "│ 118825 ┆ Its kinda both really           │\n",
       "│ 118826 ┆ This is very nonnotable as rel… │\n",
       "│ 118827 ┆ no i just randomly made up som… │\n",
       "│ 118828 ┆ The use of calcio instead of f… │\n",
       "└────────┴─────────────────────────────────┘"
      ]
     },
     "execution_count": 9,
     "metadata": {},
     "output_type": "execute_result"
    }
   ],
   "source": [
    "df_3"
   ]
  },
  {
   "cell_type": "markdown",
   "id": "bf6b8a93-7311-4ef6-977a-b43e392089ed",
   "metadata": {},
   "source": [
    "report:\n",
    "\n",
    "they share the same number. Therefore they are pairs of message. We will ceck the next csv to have a better picture."
   ]
  },
  {
   "cell_type": "code",
   "execution_count": 10,
   "id": "5fb740af-56cb-47bf-86aa-4c418073210a",
   "metadata": {},
   "outputs": [
    {
     "data": {
      "text/html": [
       "<div><style>\n",
       ".dataframe > thead > tr,\n",
       ".dataframe > tbody > tr {\n",
       "  text-align: right;\n",
       "  white-space: pre-wrap;\n",
       "}\n",
       "</style>\n",
       "<small>shape: (90_356, 6)</small><table border=\"1\" class=\"dataframe\"><thead><tr><th>Date</th><th>Time</th><th>User1 ID</th><th>User2 ID</th><th>Message</th><th>Label</th></tr><tr><td>str</td><td>str</td><td>i64</td><td>i64</td><td>str</td><td>i64</td></tr></thead><tbody><tr><td>&quot;2021-03-04&quot;</td><td>&quot;10:17&quot;</td><td>1</td><td>2</td><td>&quot;bye bye dear bajaj&nbsp;&nbsp;i got some…</td><td>1</td></tr><tr><td>&quot;2022-01-24&quot;</td><td>&quot;04:27&quot;</td><td>1</td><td>2</td><td>&quot;Haha your so funny you sit on …</td><td>1</td></tr><tr><td>&quot;2021-02-03&quot;</td><td>&quot;02:19&quot;</td><td>1</td><td>2</td><td>&quot;My problem is people talking o…</td><td>1</td></tr><tr><td>&quot;2021-09-04&quot;</td><td>&quot;08:54&quot;</td><td>1</td><td>2</td><td>&quot;Article updated&quot;</td><td>0</td></tr><tr><td>&quot;2021-07-21&quot;</td><td>&quot;13:15&quot;</td><td>1</td><td>2</td><td>&quot;Well arent you phucking specia…</td><td>1</td></tr><tr><td>&hellip;</td><td>&hellip;</td><td>&hellip;</td><td>&hellip;</td><td>&hellip;</td><td>&hellip;</td></tr><tr><td>&quot;2021-11-21&quot;</td><td>&quot;11:55&quot;</td><td>100</td><td>98</td><td>&quot;No youre right it was a lame i…</td><td>0</td></tr><tr><td>&quot;2021-05-11&quot;</td><td>&quot;14:39&quot;</td><td>100</td><td>99</td><td>&quot;break stuff&nbsp;&nbsp;&nbsp;did you really b…</td><td>0</td></tr><tr><td>&quot;2021-11-17&quot;</td><td>&quot;18:47&quot;</td><td>100</td><td>99</td><td>&quot;Stifle You might like to consu…</td><td>0</td></tr><tr><td>&quot;2021-06-07&quot;</td><td>&quot;14:11&quot;</td><td>100</td><td>99</td><td>&quot;Since the admin has already bl…</td><td>0</td></tr><tr><td>&quot;2021-11-03&quot;</td><td>&quot;02:07&quot;</td><td>100</td><td>99</td><td>&quot;Ill apologize to terry but bea…</td><td>0</td></tr></tbody></table></div>"
      ],
      "text/plain": [
       "shape: (90_356, 6)\n",
       "┌────────────┬───────┬──────────┬──────────┬─────────────────────────────────┬───────┐\n",
       "│ Date       ┆ Time  ┆ User1 ID ┆ User2 ID ┆ Message                         ┆ Label │\n",
       "│ ---        ┆ ---   ┆ ---      ┆ ---      ┆ ---                             ┆ ---   │\n",
       "│ str        ┆ str   ┆ i64      ┆ i64      ┆ str                             ┆ i64   │\n",
       "╞════════════╪═══════╪══════════╪══════════╪═════════════════════════════════╪═══════╡\n",
       "│ 2021-03-04 ┆ 10:17 ┆ 1        ┆ 2        ┆ bye bye dear bajaj  i got some… ┆ 1     │\n",
       "│ 2022-01-24 ┆ 04:27 ┆ 1        ┆ 2        ┆ Haha your so funny you sit on … ┆ 1     │\n",
       "│ 2021-02-03 ┆ 02:19 ┆ 1        ┆ 2        ┆ My problem is people talking o… ┆ 1     │\n",
       "│ 2021-09-04 ┆ 08:54 ┆ 1        ┆ 2        ┆ Article updated                 ┆ 0     │\n",
       "│ 2021-07-21 ┆ 13:15 ┆ 1        ┆ 2        ┆ Well arent you phucking specia… ┆ 1     │\n",
       "│ …          ┆ …     ┆ …        ┆ …        ┆ …                               ┆ …     │\n",
       "│ 2021-11-21 ┆ 11:55 ┆ 100      ┆ 98       ┆ No youre right it was a lame i… ┆ 0     │\n",
       "│ 2021-05-11 ┆ 14:39 ┆ 100      ┆ 99       ┆ break stuff   did you really b… ┆ 0     │\n",
       "│ 2021-11-17 ┆ 18:47 ┆ 100      ┆ 99       ┆ Stifle You might like to consu… ┆ 0     │\n",
       "│ 2021-06-07 ┆ 14:11 ┆ 100      ┆ 99       ┆ Since the admin has already bl… ┆ 0     │\n",
       "│ 2021-11-03 ┆ 02:07 ┆ 100      ┆ 99       ┆ Ill apologize to terry but bea… ┆ 0     │\n",
       "└────────────┴───────┴──────────┴──────────┴─────────────────────────────────┴───────┘"
      ]
     },
     "execution_count": 10,
     "metadata": {},
     "output_type": "execute_result"
    }
   ],
   "source": [
    "df_4 = pl.read_csv(\"5. Communication_Data_Among_Users.csv\")\n",
    "df_4"
   ]
  },
  {
   "cell_type": "markdown",
   "id": "7eedb8b8-8c24-4dde-9753-9c5c745256fe",
   "metadata": {},
   "source": [
    "report:\n",
    "\n",
    "this csv makes sence for the rest. this is the main one to use of rhte trasining of the modern bert model. it also contains the userIDs and the messages. THis is wonder as now we can create a new csv with the information of the gender, age and grade. With that we will be able to check the statistic in relation with the predicted variable.\n"
   ]
  },
  {
   "cell_type": "markdown",
   "id": "82f5e3fe-dbbc-499f-8cb7-6d060a7fa8bb",
   "metadata": {},
   "source": [
    "### First Glance exploration\n",
    "\n",
    "The data set conssit of several csv with different informations. MOst of them consist of textual data, therefore unestructured. SOme of the other columns, such as gender, can be encoded in a categorical format to run statistics. The label classificiation is binomial, which facilitates the task at hand.\n",
    "\n",
    "Therefore the approach must be the following:\n",
    "\n",
    "1. join csv information from the users_data.csv with 5. Communication_Data_Among_Users.csv into a new complete csv.\n",
    "2. encode the gender column into numerical format.\n",
    "3. drop all the unnnecessary or uninformative columns.\n",
    "4. run descriptive statistics over the sample.\n",
    "5. prepare a small report after checking all of them."
   ]
  },
  {
   "cell_type": "code",
   "execution_count": 11,
   "id": "65afaacb-3274-4c77-b696-3f9cdd042424",
   "metadata": {},
   "outputs": [],
   "source": [
    "del df, df_1, df_2, df_3, df_4, pl"
   ]
  },
  {
   "cell_type": "markdown",
   "id": "5e8c534d-8f43-41dd-818e-91d5b34c5249",
   "metadata": {},
   "source": [
    "### 1. join csv information from the users_data.csv with 5. Communication_Data_Among_Users.csv into a new complete csv."
   ]
  },
  {
   "cell_type": "code",
   "execution_count": 12,
   "id": "1a7f9dd7-8372-404c-b97a-790dba304a6d",
   "metadata": {},
   "outputs": [
    {
     "data": {
      "text/plain": [
       "(shape: (100, 5)\n",
       " ┌────────┬─────┬────────┬─────────────┬───────┐\n",
       " │ UserID ┆ Age ┆ Gender ┆ School Name ┆ Grade │\n",
       " │ ---    ┆ --- ┆ ---    ┆ ---         ┆ ---   │\n",
       " │ i64    ┆ i64 ┆ str    ┆ str         ┆ i64   │\n",
       " ╞════════╪═════╪════════╪═════════════╪═══════╡\n",
       " │ 1      ┆ 11  ┆ Others ┆ School10    ┆ 5     │\n",
       " │ 2      ┆ 15  ┆ Male   ┆ School5     ┆ 9     │\n",
       " │ 3      ┆ 11  ┆ Male   ┆ School13    ┆ 5     │\n",
       " │ 4      ┆ 17  ┆ Male   ┆ School14    ┆ 11    │\n",
       " │ 5      ┆ 17  ┆ Male   ┆ School6     ┆ 11    │\n",
       " │ …      ┆ …   ┆ …      ┆ …           ┆ …     │\n",
       " │ 96     ┆ 13  ┆ Male   ┆ School10    ┆ 7     │\n",
       " │ 97     ┆ 14  ┆ Others ┆ School8     ┆ 8     │\n",
       " │ 98     ┆ 10  ┆ Others ┆ School15    ┆ 4     │\n",
       " │ 99     ┆ 11  ┆ Others ┆ School1     ┆ 5     │\n",
       " │ 100    ┆ 17  ┆ Others ┆ School5     ┆ 11    │\n",
       " └────────┴─────┴────────┴─────────────┴───────┘,\n",
       " shape: (90_356, 6)\n",
       " ┌────────────┬───────┬──────────┬──────────┬─────────────────────────────────┬───────┐\n",
       " │ Date       ┆ Time  ┆ User1 ID ┆ User2 ID ┆ Message                         ┆ Label │\n",
       " │ ---        ┆ ---   ┆ ---      ┆ ---      ┆ ---                             ┆ ---   │\n",
       " │ str        ┆ str   ┆ i64      ┆ i64      ┆ str                             ┆ i64   │\n",
       " ╞════════════╪═══════╪══════════╪══════════╪═════════════════════════════════╪═══════╡\n",
       " │ 2021-03-04 ┆ 10:17 ┆ 1        ┆ 2        ┆ bye bye dear bajaj  i got some… ┆ 1     │\n",
       " │ 2022-01-24 ┆ 04:27 ┆ 1        ┆ 2        ┆ Haha your so funny you sit on … ┆ 1     │\n",
       " │ 2021-02-03 ┆ 02:19 ┆ 1        ┆ 2        ┆ My problem is people talking o… ┆ 1     │\n",
       " │ 2021-09-04 ┆ 08:54 ┆ 1        ┆ 2        ┆ Article updated                 ┆ 0     │\n",
       " │ 2021-07-21 ┆ 13:15 ┆ 1        ┆ 2        ┆ Well arent you phucking specia… ┆ 1     │\n",
       " │ …          ┆ …     ┆ …        ┆ …        ┆ …                               ┆ …     │\n",
       " │ 2021-11-21 ┆ 11:55 ┆ 100      ┆ 98       ┆ No youre right it was a lame i… ┆ 0     │\n",
       " │ 2021-05-11 ┆ 14:39 ┆ 100      ┆ 99       ┆ break stuff   did you really b… ┆ 0     │\n",
       " │ 2021-11-17 ┆ 18:47 ┆ 100      ┆ 99       ┆ Stifle You might like to consu… ┆ 0     │\n",
       " │ 2021-06-07 ┆ 14:11 ┆ 100      ┆ 99       ┆ Since the admin has already bl… ┆ 0     │\n",
       " │ 2021-11-03 ┆ 02:07 ┆ 100      ┆ 99       ┆ Ill apologize to terry but bea… ┆ 0     │\n",
       " └────────────┴───────┴──────────┴──────────┴─────────────────────────────────┴───────┘)"
      ]
     },
     "execution_count": 12,
     "metadata": {},
     "output_type": "execute_result"
    }
   ],
   "source": [
    "import polars as pl\n",
    "df_0 = pl.read_csv(\"1. users_data.csv\")\n",
    "df_1 =  pl.read_csv(\"5. Communication_Data_Among_Users.csv\")\n",
    "df_0, df_1"
   ]
  },
  {
   "cell_type": "code",
   "execution_count": 13,
   "id": "fd3197c8-7f7f-410f-bdf2-b41fa7684fe5",
   "metadata": {},
   "outputs": [],
   "source": [
    "necessary_columns_0 = df_0.columns[1:]\n",
    "necessary_columns_0 = necessary_columns_0 + df_1.columns"
   ]
  },
  {
   "cell_type": "code",
   "execution_count": 14,
   "id": "4a0810d0-d653-47e5-8991-1c0749144aae",
   "metadata": {},
   "outputs": [
    {
     "data": {
      "text/html": [
       "<div><style>\n",
       ".dataframe > thead > tr,\n",
       ".dataframe > tbody > tr {\n",
       "  text-align: right;\n",
       "  white-space: pre-wrap;\n",
       "}\n",
       "</style>\n",
       "<small>shape: (90_356, 9)</small><table border=\"1\" class=\"dataframe\"><thead><tr><th>Date</th><th>Time</th><th>User1 ID</th><th>User2 ID</th><th>Message</th><th>Label</th><th>User1 Gender</th><th>User1 Grade</th><th>User1 Age</th></tr><tr><td>str</td><td>str</td><td>i64</td><td>i64</td><td>str</td><td>i64</td><td>str</td><td>i64</td><td>i64</td></tr></thead><tbody><tr><td>&quot;2021-03-04&quot;</td><td>&quot;10:17&quot;</td><td>1</td><td>2</td><td>&quot;bye bye dear bajaj&nbsp;&nbsp;i got some…</td><td>1</td><td>&quot;Others&quot;</td><td>5</td><td>11</td></tr><tr><td>&quot;2022-01-24&quot;</td><td>&quot;04:27&quot;</td><td>1</td><td>2</td><td>&quot;Haha your so funny you sit on …</td><td>1</td><td>&quot;Others&quot;</td><td>5</td><td>11</td></tr><tr><td>&quot;2021-02-03&quot;</td><td>&quot;02:19&quot;</td><td>1</td><td>2</td><td>&quot;My problem is people talking o…</td><td>1</td><td>&quot;Others&quot;</td><td>5</td><td>11</td></tr><tr><td>&quot;2021-09-04&quot;</td><td>&quot;08:54&quot;</td><td>1</td><td>2</td><td>&quot;Article updated&quot;</td><td>0</td><td>&quot;Others&quot;</td><td>5</td><td>11</td></tr><tr><td>&quot;2021-07-21&quot;</td><td>&quot;13:15&quot;</td><td>1</td><td>2</td><td>&quot;Well arent you phucking specia…</td><td>1</td><td>&quot;Others&quot;</td><td>5</td><td>11</td></tr><tr><td>&hellip;</td><td>&hellip;</td><td>&hellip;</td><td>&hellip;</td><td>&hellip;</td><td>&hellip;</td><td>&hellip;</td><td>&hellip;</td><td>&hellip;</td></tr><tr><td>&quot;2021-11-21&quot;</td><td>&quot;11:55&quot;</td><td>100</td><td>98</td><td>&quot;No youre right it was a lame i…</td><td>0</td><td>&quot;Others&quot;</td><td>11</td><td>17</td></tr><tr><td>&quot;2021-05-11&quot;</td><td>&quot;14:39&quot;</td><td>100</td><td>99</td><td>&quot;break stuff&nbsp;&nbsp;&nbsp;did you really b…</td><td>0</td><td>&quot;Others&quot;</td><td>11</td><td>17</td></tr><tr><td>&quot;2021-11-17&quot;</td><td>&quot;18:47&quot;</td><td>100</td><td>99</td><td>&quot;Stifle You might like to consu…</td><td>0</td><td>&quot;Others&quot;</td><td>11</td><td>17</td></tr><tr><td>&quot;2021-06-07&quot;</td><td>&quot;14:11&quot;</td><td>100</td><td>99</td><td>&quot;Since the admin has already bl…</td><td>0</td><td>&quot;Others&quot;</td><td>11</td><td>17</td></tr><tr><td>&quot;2021-11-03&quot;</td><td>&quot;02:07&quot;</td><td>100</td><td>99</td><td>&quot;Ill apologize to terry but bea…</td><td>0</td><td>&quot;Others&quot;</td><td>11</td><td>17</td></tr></tbody></table></div>"
      ],
      "text/plain": [
       "shape: (90_356, 9)\n",
       "┌────────────┬───────┬──────────┬──────────┬───┬───────┬──────────────┬─────────────┬───────────┐\n",
       "│ Date       ┆ Time  ┆ User1 ID ┆ User2 ID ┆ … ┆ Label ┆ User1 Gender ┆ User1 Grade ┆ User1 Age │\n",
       "│ ---        ┆ ---   ┆ ---      ┆ ---      ┆   ┆ ---   ┆ ---          ┆ ---         ┆ ---       │\n",
       "│ str        ┆ str   ┆ i64      ┆ i64      ┆   ┆ i64   ┆ str          ┆ i64         ┆ i64       │\n",
       "╞════════════╪═══════╪══════════╪══════════╪═══╪═══════╪══════════════╪═════════════╪═══════════╡\n",
       "│ 2021-03-04 ┆ 10:17 ┆ 1        ┆ 2        ┆ … ┆ 1     ┆ Others       ┆ 5           ┆ 11        │\n",
       "│ 2022-01-24 ┆ 04:27 ┆ 1        ┆ 2        ┆ … ┆ 1     ┆ Others       ┆ 5           ┆ 11        │\n",
       "│ 2021-02-03 ┆ 02:19 ┆ 1        ┆ 2        ┆ … ┆ 1     ┆ Others       ┆ 5           ┆ 11        │\n",
       "│ 2021-09-04 ┆ 08:54 ┆ 1        ┆ 2        ┆ … ┆ 0     ┆ Others       ┆ 5           ┆ 11        │\n",
       "│ 2021-07-21 ┆ 13:15 ┆ 1        ┆ 2        ┆ … ┆ 1     ┆ Others       ┆ 5           ┆ 11        │\n",
       "│ …          ┆ …     ┆ …        ┆ …        ┆ … ┆ …     ┆ …            ┆ …           ┆ …         │\n",
       "│ 2021-11-21 ┆ 11:55 ┆ 100      ┆ 98       ┆ … ┆ 0     ┆ Others       ┆ 11          ┆ 17        │\n",
       "│ 2021-05-11 ┆ 14:39 ┆ 100      ┆ 99       ┆ … ┆ 0     ┆ Others       ┆ 11          ┆ 17        │\n",
       "│ 2021-11-17 ┆ 18:47 ┆ 100      ┆ 99       ┆ … ┆ 0     ┆ Others       ┆ 11          ┆ 17        │\n",
       "│ 2021-06-07 ┆ 14:11 ┆ 100      ┆ 99       ┆ … ┆ 0     ┆ Others       ┆ 11          ┆ 17        │\n",
       "│ 2021-11-03 ┆ 02:07 ┆ 100      ┆ 99       ┆ … ┆ 0     ┆ Others       ┆ 11          ┆ 17        │\n",
       "└────────────┴───────┴──────────┴──────────┴───┴───────┴──────────────┴─────────────┴───────────┘"
      ]
     },
     "execution_count": 14,
     "metadata": {},
     "output_type": "execute_result"
    }
   ],
   "source": [
    "\n",
    "df_user1 = df_1.join(df_0, left_on=\"User1 ID\", right_on=\"UserID\", how=\"left\").select([pl.col(col) for col in necessary_columns_0 if col != \"School Name\"]).with_columns(\n",
    "    pl.col(\"Gender\").alias(\"User1 Gender\"),\n",
    "    pl.col(\"Grade\").alias(\"User1 Grade\"),\n",
    "    pl.col(\"Age\").alias(\"User1 Age\")\n",
    ").drop([pl.col(col) for col in {\"Age\", \"Gender\", \"Grade\"}])\n",
    "df_user1"
   ]
  },
  {
   "cell_type": "code",
   "execution_count": 15,
   "id": "fb378d52-a1ec-414c-864e-aa8d22dc9dd1",
   "metadata": {},
   "outputs": [
    {
     "data": {
      "text/plain": [
       "{'Age',\n",
       " 'Date',\n",
       " 'Gender',\n",
       " 'Grade',\n",
       " 'Label',\n",
       " 'Message',\n",
       " 'School Name',\n",
       " 'Time',\n",
       " 'User1 Age',\n",
       " 'User1 Gender',\n",
       " 'User1 Grade',\n",
       " 'User1 ID',\n",
       " 'User2 ID'}"
      ]
     },
     "execution_count": 15,
     "metadata": {},
     "output_type": "execute_result"
    }
   ],
   "source": [
    "necessary_columns_1 = df_0.columns[1:] + df_user1.columns\n",
    "necessary_columns_1 = set(necessary_columns_1)\n",
    "necessary_columns_1\n"
   ]
  },
  {
   "cell_type": "code",
   "execution_count": 16,
   "id": "3112e258-636e-4b8b-9698-4791101b85a5",
   "metadata": {},
   "outputs": [
    {
     "data": {
      "text/html": [
       "<div><style>\n",
       ".dataframe > thead > tr,\n",
       ".dataframe > tbody > tr {\n",
       "  text-align: right;\n",
       "  white-space: pre-wrap;\n",
       "}\n",
       "</style>\n",
       "<small>shape: (90_356, 12)</small><table border=\"1\" class=\"dataframe\"><thead><tr><th>User1 ID</th><th>User1 Grade</th><th>User2 ID</th><th>Date</th><th>User1 Age</th><th>Message</th><th>User1 Gender</th><th>Label</th><th>Time</th><th>User2 Gender</th><th>User2 Grade</th><th>User2 Age</th></tr><tr><td>i64</td><td>i64</td><td>i64</td><td>str</td><td>i64</td><td>str</td><td>str</td><td>i64</td><td>str</td><td>str</td><td>i64</td><td>i64</td></tr></thead><tbody><tr><td>1</td><td>5</td><td>2</td><td>&quot;2021-03-04&quot;</td><td>11</td><td>&quot;bye bye dear bajaj&nbsp;&nbsp;i got some…</td><td>&quot;Others&quot;</td><td>1</td><td>&quot;10:17&quot;</td><td>&quot;Male&quot;</td><td>9</td><td>15</td></tr><tr><td>1</td><td>5</td><td>2</td><td>&quot;2022-01-24&quot;</td><td>11</td><td>&quot;Haha your so funny you sit on …</td><td>&quot;Others&quot;</td><td>1</td><td>&quot;04:27&quot;</td><td>&quot;Male&quot;</td><td>9</td><td>15</td></tr><tr><td>1</td><td>5</td><td>2</td><td>&quot;2021-02-03&quot;</td><td>11</td><td>&quot;My problem is people talking o…</td><td>&quot;Others&quot;</td><td>1</td><td>&quot;02:19&quot;</td><td>&quot;Male&quot;</td><td>9</td><td>15</td></tr><tr><td>1</td><td>5</td><td>2</td><td>&quot;2021-09-04&quot;</td><td>11</td><td>&quot;Article updated&quot;</td><td>&quot;Others&quot;</td><td>0</td><td>&quot;08:54&quot;</td><td>&quot;Male&quot;</td><td>9</td><td>15</td></tr><tr><td>1</td><td>5</td><td>2</td><td>&quot;2021-07-21&quot;</td><td>11</td><td>&quot;Well arent you phucking specia…</td><td>&quot;Others&quot;</td><td>1</td><td>&quot;13:15&quot;</td><td>&quot;Male&quot;</td><td>9</td><td>15</td></tr><tr><td>&hellip;</td><td>&hellip;</td><td>&hellip;</td><td>&hellip;</td><td>&hellip;</td><td>&hellip;</td><td>&hellip;</td><td>&hellip;</td><td>&hellip;</td><td>&hellip;</td><td>&hellip;</td><td>&hellip;</td></tr><tr><td>100</td><td>11</td><td>98</td><td>&quot;2021-11-21&quot;</td><td>17</td><td>&quot;No youre right it was a lame i…</td><td>&quot;Others&quot;</td><td>0</td><td>&quot;11:55&quot;</td><td>&quot;Others&quot;</td><td>4</td><td>10</td></tr><tr><td>100</td><td>11</td><td>99</td><td>&quot;2021-05-11&quot;</td><td>17</td><td>&quot;break stuff&nbsp;&nbsp;&nbsp;did you really b…</td><td>&quot;Others&quot;</td><td>0</td><td>&quot;14:39&quot;</td><td>&quot;Others&quot;</td><td>5</td><td>11</td></tr><tr><td>100</td><td>11</td><td>99</td><td>&quot;2021-11-17&quot;</td><td>17</td><td>&quot;Stifle You might like to consu…</td><td>&quot;Others&quot;</td><td>0</td><td>&quot;18:47&quot;</td><td>&quot;Others&quot;</td><td>5</td><td>11</td></tr><tr><td>100</td><td>11</td><td>99</td><td>&quot;2021-06-07&quot;</td><td>17</td><td>&quot;Since the admin has already bl…</td><td>&quot;Others&quot;</td><td>0</td><td>&quot;14:11&quot;</td><td>&quot;Others&quot;</td><td>5</td><td>11</td></tr><tr><td>100</td><td>11</td><td>99</td><td>&quot;2021-11-03&quot;</td><td>17</td><td>&quot;Ill apologize to terry but bea…</td><td>&quot;Others&quot;</td><td>0</td><td>&quot;02:07&quot;</td><td>&quot;Others&quot;</td><td>5</td><td>11</td></tr></tbody></table></div>"
      ],
      "text/plain": [
       "shape: (90_356, 12)\n",
       "┌──────────┬───────┬──────────┬────────────┬───┬───────┬───────────────┬───────────────┬───────────┐\n",
       "│ User1 ID ┆ User1 ┆ User2 ID ┆ Date       ┆ … ┆ Time  ┆ User2 Gender  ┆ User2 Grade   ┆ User2 Age │\n",
       "│ ---      ┆ Grade ┆ ---      ┆ ---        ┆   ┆ ---   ┆ ---           ┆ ---           ┆ ---       │\n",
       "│ i64      ┆ ---   ┆ i64      ┆ str        ┆   ┆ str   ┆ str           ┆ i64           ┆ i64       │\n",
       "│          ┆ i64   ┆          ┆            ┆   ┆       ┆               ┆               ┆           │\n",
       "╞══════════╪═══════╪══════════╪════════════╪═══╪═══════╪═══════════════╪═══════════════╪═══════════╡\n",
       "│ 1        ┆ 5     ┆ 2        ┆ 2021-03-04 ┆ … ┆ 10:17 ┆ Male          ┆ 9             ┆ 15        │\n",
       "│ 1        ┆ 5     ┆ 2        ┆ 2022-01-24 ┆ … ┆ 04:27 ┆ Male          ┆ 9             ┆ 15        │\n",
       "│ 1        ┆ 5     ┆ 2        ┆ 2021-02-03 ┆ … ┆ 02:19 ┆ Male          ┆ 9             ┆ 15        │\n",
       "│ 1        ┆ 5     ┆ 2        ┆ 2021-09-04 ┆ … ┆ 08:54 ┆ Male          ┆ 9             ┆ 15        │\n",
       "│ 1        ┆ 5     ┆ 2        ┆ 2021-07-21 ┆ … ┆ 13:15 ┆ Male          ┆ 9             ┆ 15        │\n",
       "│ …        ┆ …     ┆ …        ┆ …          ┆ … ┆ …     ┆ …             ┆ …             ┆ …         │\n",
       "│ 100      ┆ 11    ┆ 98       ┆ 2021-11-21 ┆ … ┆ 11:55 ┆ Others        ┆ 4             ┆ 10        │\n",
       "│ 100      ┆ 11    ┆ 99       ┆ 2021-05-11 ┆ … ┆ 14:39 ┆ Others        ┆ 5             ┆ 11        │\n",
       "│ 100      ┆ 11    ┆ 99       ┆ 2021-11-17 ┆ … ┆ 18:47 ┆ Others        ┆ 5             ┆ 11        │\n",
       "│ 100      ┆ 11    ┆ 99       ┆ 2021-06-07 ┆ … ┆ 14:11 ┆ Others        ┆ 5             ┆ 11        │\n",
       "│ 100      ┆ 11    ┆ 99       ┆ 2021-11-03 ┆ … ┆ 02:07 ┆ Others        ┆ 5             ┆ 11        │\n",
       "└──────────┴───────┴──────────┴────────────┴───┴───────┴───────────────┴───────────────┴───────────┘"
      ]
     },
     "execution_count": 16,
     "metadata": {},
     "output_type": "execute_result"
    }
   ],
   "source": [
    "final_df = df_user1.join(df_0, left_on=\"User2 ID\", right_on=\"UserID\", how=\"left\").select([pl.col(col) for col in necessary_columns_1 if col != \"School Name\"]).with_columns(\n",
    "        pl.col(\"Gender\").alias(\"User2 Gender\"),\n",
    "    pl.col(\"Grade\").alias(\"User2 Grade\"),\n",
    "    pl.col(\"Age\").alias(\"User2 Age\")\n",
    ").drop([pl.col(col) for col in {\"Age\", \"Gender\", \"Grade\"}])\n",
    "final_df"
   ]
  },
  {
   "cell_type": "code",
   "execution_count": 17,
   "id": "047ac35e-0a7a-45ca-9930-6ba1f03c43b8",
   "metadata": {},
   "outputs": [
    {
     "data": {
      "text/html": [
       "<div><style>\n",
       ".dataframe > thead > tr,\n",
       ".dataframe > tbody > tr {\n",
       "  text-align: right;\n",
       "  white-space: pre-wrap;\n",
       "}\n",
       "</style>\n",
       "<small>shape: (90_356, 12)</small><table border=\"1\" class=\"dataframe\"><thead><tr><th>User1 ID</th><th>User1 Grade</th><th>User2 ID</th><th>Date</th><th>User1 Age</th><th>Message</th><th>User1 Gender</th><th>Label</th><th>Time</th><th>User2 Gender</th><th>User2 Grade</th><th>User2 Age</th></tr><tr><td>i64</td><td>i64</td><td>i64</td><td>str</td><td>i64</td><td>str</td><td>str</td><td>i64</td><td>str</td><td>str</td><td>i64</td><td>i64</td></tr></thead><tbody><tr><td>1</td><td>5</td><td>2</td><td>&quot;2021-03-04&quot;</td><td>11</td><td>&quot;bye bye dear bajaj&nbsp;&nbsp;i got some…</td><td>&quot;Others&quot;</td><td>1</td><td>&quot;10:17&quot;</td><td>&quot;Male&quot;</td><td>9</td><td>15</td></tr><tr><td>1</td><td>5</td><td>2</td><td>&quot;2022-01-24&quot;</td><td>11</td><td>&quot;Haha your so funny you sit on …</td><td>&quot;Others&quot;</td><td>1</td><td>&quot;04:27&quot;</td><td>&quot;Male&quot;</td><td>9</td><td>15</td></tr><tr><td>1</td><td>5</td><td>2</td><td>&quot;2021-02-03&quot;</td><td>11</td><td>&quot;My problem is people talking o…</td><td>&quot;Others&quot;</td><td>1</td><td>&quot;02:19&quot;</td><td>&quot;Male&quot;</td><td>9</td><td>15</td></tr><tr><td>1</td><td>5</td><td>2</td><td>&quot;2021-09-04&quot;</td><td>11</td><td>&quot;Article updated&quot;</td><td>&quot;Others&quot;</td><td>0</td><td>&quot;08:54&quot;</td><td>&quot;Male&quot;</td><td>9</td><td>15</td></tr><tr><td>1</td><td>5</td><td>2</td><td>&quot;2021-07-21&quot;</td><td>11</td><td>&quot;Well arent you phucking specia…</td><td>&quot;Others&quot;</td><td>1</td><td>&quot;13:15&quot;</td><td>&quot;Male&quot;</td><td>9</td><td>15</td></tr><tr><td>&hellip;</td><td>&hellip;</td><td>&hellip;</td><td>&hellip;</td><td>&hellip;</td><td>&hellip;</td><td>&hellip;</td><td>&hellip;</td><td>&hellip;</td><td>&hellip;</td><td>&hellip;</td><td>&hellip;</td></tr><tr><td>100</td><td>11</td><td>98</td><td>&quot;2021-11-21&quot;</td><td>17</td><td>&quot;No youre right it was a lame i…</td><td>&quot;Others&quot;</td><td>0</td><td>&quot;11:55&quot;</td><td>&quot;Others&quot;</td><td>4</td><td>10</td></tr><tr><td>100</td><td>11</td><td>99</td><td>&quot;2021-05-11&quot;</td><td>17</td><td>&quot;break stuff&nbsp;&nbsp;&nbsp;did you really b…</td><td>&quot;Others&quot;</td><td>0</td><td>&quot;14:39&quot;</td><td>&quot;Others&quot;</td><td>5</td><td>11</td></tr><tr><td>100</td><td>11</td><td>99</td><td>&quot;2021-11-17&quot;</td><td>17</td><td>&quot;Stifle You might like to consu…</td><td>&quot;Others&quot;</td><td>0</td><td>&quot;18:47&quot;</td><td>&quot;Others&quot;</td><td>5</td><td>11</td></tr><tr><td>100</td><td>11</td><td>99</td><td>&quot;2021-06-07&quot;</td><td>17</td><td>&quot;Since the admin has already bl…</td><td>&quot;Others&quot;</td><td>0</td><td>&quot;14:11&quot;</td><td>&quot;Others&quot;</td><td>5</td><td>11</td></tr><tr><td>100</td><td>11</td><td>99</td><td>&quot;2021-11-03&quot;</td><td>17</td><td>&quot;Ill apologize to terry but bea…</td><td>&quot;Others&quot;</td><td>0</td><td>&quot;02:07&quot;</td><td>&quot;Others&quot;</td><td>5</td><td>11</td></tr></tbody></table></div>"
      ],
      "text/plain": [
       "shape: (90_356, 12)\n",
       "┌──────────┬───────┬──────────┬────────────┬───┬───────┬───────────────┬───────────────┬───────────┐\n",
       "│ User1 ID ┆ User1 ┆ User2 ID ┆ Date       ┆ … ┆ Time  ┆ User2 Gender  ┆ User2 Grade   ┆ User2 Age │\n",
       "│ ---      ┆ Grade ┆ ---      ┆ ---        ┆   ┆ ---   ┆ ---           ┆ ---           ┆ ---       │\n",
       "│ i64      ┆ ---   ┆ i64      ┆ str        ┆   ┆ str   ┆ str           ┆ i64           ┆ i64       │\n",
       "│          ┆ i64   ┆          ┆            ┆   ┆       ┆               ┆               ┆           │\n",
       "╞══════════╪═══════╪══════════╪════════════╪═══╪═══════╪═══════════════╪═══════════════╪═══════════╡\n",
       "│ 1        ┆ 5     ┆ 2        ┆ 2021-03-04 ┆ … ┆ 10:17 ┆ Male          ┆ 9             ┆ 15        │\n",
       "│ 1        ┆ 5     ┆ 2        ┆ 2022-01-24 ┆ … ┆ 04:27 ┆ Male          ┆ 9             ┆ 15        │\n",
       "│ 1        ┆ 5     ┆ 2        ┆ 2021-02-03 ┆ … ┆ 02:19 ┆ Male          ┆ 9             ┆ 15        │\n",
       "│ 1        ┆ 5     ┆ 2        ┆ 2021-09-04 ┆ … ┆ 08:54 ┆ Male          ┆ 9             ┆ 15        │\n",
       "│ 1        ┆ 5     ┆ 2        ┆ 2021-07-21 ┆ … ┆ 13:15 ┆ Male          ┆ 9             ┆ 15        │\n",
       "│ …        ┆ …     ┆ …        ┆ …          ┆ … ┆ …     ┆ …             ┆ …             ┆ …         │\n",
       "│ 100      ┆ 11    ┆ 98       ┆ 2021-11-21 ┆ … ┆ 11:55 ┆ Others        ┆ 4             ┆ 10        │\n",
       "│ 100      ┆ 11    ┆ 99       ┆ 2021-05-11 ┆ … ┆ 14:39 ┆ Others        ┆ 5             ┆ 11        │\n",
       "│ 100      ┆ 11    ┆ 99       ┆ 2021-11-17 ┆ … ┆ 18:47 ┆ Others        ┆ 5             ┆ 11        │\n",
       "│ 100      ┆ 11    ┆ 99       ┆ 2021-06-07 ┆ … ┆ 14:11 ┆ Others        ┆ 5             ┆ 11        │\n",
       "│ 100      ┆ 11    ┆ 99       ┆ 2021-11-03 ┆ … ┆ 02:07 ┆ Others        ┆ 5             ┆ 11        │\n",
       "└──────────┴───────┴──────────┴────────────┴───┴───────┴───────────────┴───────────────┴───────────┘"
      ]
     },
     "execution_count": 17,
     "metadata": {},
     "output_type": "execute_result"
    }
   ],
   "source": [
    "# Just test of polars\n",
    "\n",
    "final_df_full_test = df_1.join(df_0, left_on=\"User1 ID\", right_on=\"UserID\", how=\"left\").select([pl.col(col) for col in necessary_columns_0 if col != \"School Name\"]).with_columns(\n",
    "    pl.col(\"Gender\").alias(\"User1 Gender\"),\n",
    "    pl.col(\"Grade\").alias(\"User1 Grade\"),\n",
    "    pl.col(\"Age\").alias(\"User1 Age\")\n",
    ").drop([pl.col(col) for col in {\"Age\", \"Gender\", \"Grade\"}]\n",
    "      ).join(\n",
    "    df_0, left_on=\"User2 ID\", right_on=\"UserID\",\n",
    "    how=\"left\"\n",
    ").select(\n",
    "    [pl.col(col) for col in necessary_columns_1 if col != \"School Name\"]\n",
    ").with_columns(\n",
    "        pl.col(\"Gender\").alias(\"User2 Gender\"),\n",
    "    pl.col(\"Grade\").alias(\"User2 Grade\"),\n",
    "    pl.col(\"Age\").alias(\"User2 Age\")\n",
    ").drop(\n",
    "    [pl.col(col) for col in {\"Age\", \"Gender\", \"Grade\"}])\n",
    "\n",
    "final_df_full_test"
   ]
  },
  {
   "cell_type": "markdown",
   "id": "c3da1393-831d-4042-afb9-f853d26404b6",
   "metadata": {},
   "source": [
    "report:\n",
    "\n",
    "WE have combined both dataframes an now we have clearer picture of the important data. we also learn that the combinations of operations in polars can continue even with joins."
   ]
  },
  {
   "cell_type": "code",
   "execution_count": 18,
   "id": "58ef344f-99c2-442c-aabd-7b0e08f5cd20",
   "metadata": {},
   "outputs": [],
   "source": [
    "del df_0, df_user1"
   ]
  },
  {
   "cell_type": "code",
   "execution_count": 19,
   "id": "346ecaf3-3c35-45a6-95a0-13f1d82b5283",
   "metadata": {},
   "outputs": [],
   "source": [
    "final_df_full_test.write_csv(\"cyberbully_detection_rawdata.csv\")\n",
    "del final_df_full_test, pl"
   ]
  },
  {
   "cell_type": "markdown",
   "id": "94fc1211-bdff-4c81-b2c8-3aee747491db",
   "metadata": {},
   "source": [
    "### 2. encode the gender column into numerical format."
   ]
  },
  {
   "cell_type": "code",
   "execution_count": 20,
   "id": "5d13005b-8655-455b-8b17-eb021854d0e9",
   "metadata": {},
   "outputs": [
    {
     "data": {
      "text/html": [
       "<div><style>\n",
       ".dataframe > thead > tr,\n",
       ".dataframe > tbody > tr {\n",
       "  text-align: right;\n",
       "  white-space: pre-wrap;\n",
       "}\n",
       "</style>\n",
       "<small>shape: (90_356, 12)</small><table border=\"1\" class=\"dataframe\"><thead><tr><th>User1 ID</th><th>User1 Grade</th><th>User2 ID</th><th>Date</th><th>User1 Age</th><th>Message</th><th>User1 Gender</th><th>Label</th><th>Time</th><th>User2 Gender</th><th>User2 Grade</th><th>User2 Age</th></tr><tr><td>i64</td><td>i64</td><td>i64</td><td>str</td><td>i64</td><td>str</td><td>str</td><td>i64</td><td>str</td><td>str</td><td>i64</td><td>i64</td></tr></thead><tbody><tr><td>1</td><td>5</td><td>2</td><td>&quot;2021-03-04&quot;</td><td>11</td><td>&quot;bye bye dear bajaj&nbsp;&nbsp;i got some…</td><td>&quot;Others&quot;</td><td>1</td><td>&quot;10:17&quot;</td><td>&quot;Male&quot;</td><td>9</td><td>15</td></tr><tr><td>1</td><td>5</td><td>2</td><td>&quot;2022-01-24&quot;</td><td>11</td><td>&quot;Haha your so funny you sit on …</td><td>&quot;Others&quot;</td><td>1</td><td>&quot;04:27&quot;</td><td>&quot;Male&quot;</td><td>9</td><td>15</td></tr><tr><td>1</td><td>5</td><td>2</td><td>&quot;2021-02-03&quot;</td><td>11</td><td>&quot;My problem is people talking o…</td><td>&quot;Others&quot;</td><td>1</td><td>&quot;02:19&quot;</td><td>&quot;Male&quot;</td><td>9</td><td>15</td></tr><tr><td>1</td><td>5</td><td>2</td><td>&quot;2021-09-04&quot;</td><td>11</td><td>&quot;Article updated&quot;</td><td>&quot;Others&quot;</td><td>0</td><td>&quot;08:54&quot;</td><td>&quot;Male&quot;</td><td>9</td><td>15</td></tr><tr><td>1</td><td>5</td><td>2</td><td>&quot;2021-07-21&quot;</td><td>11</td><td>&quot;Well arent you phucking specia…</td><td>&quot;Others&quot;</td><td>1</td><td>&quot;13:15&quot;</td><td>&quot;Male&quot;</td><td>9</td><td>15</td></tr><tr><td>&hellip;</td><td>&hellip;</td><td>&hellip;</td><td>&hellip;</td><td>&hellip;</td><td>&hellip;</td><td>&hellip;</td><td>&hellip;</td><td>&hellip;</td><td>&hellip;</td><td>&hellip;</td><td>&hellip;</td></tr><tr><td>100</td><td>11</td><td>98</td><td>&quot;2021-11-21&quot;</td><td>17</td><td>&quot;No youre right it was a lame i…</td><td>&quot;Others&quot;</td><td>0</td><td>&quot;11:55&quot;</td><td>&quot;Others&quot;</td><td>4</td><td>10</td></tr><tr><td>100</td><td>11</td><td>99</td><td>&quot;2021-05-11&quot;</td><td>17</td><td>&quot;break stuff&nbsp;&nbsp;&nbsp;did you really b…</td><td>&quot;Others&quot;</td><td>0</td><td>&quot;14:39&quot;</td><td>&quot;Others&quot;</td><td>5</td><td>11</td></tr><tr><td>100</td><td>11</td><td>99</td><td>&quot;2021-11-17&quot;</td><td>17</td><td>&quot;Stifle You might like to consu…</td><td>&quot;Others&quot;</td><td>0</td><td>&quot;18:47&quot;</td><td>&quot;Others&quot;</td><td>5</td><td>11</td></tr><tr><td>100</td><td>11</td><td>99</td><td>&quot;2021-06-07&quot;</td><td>17</td><td>&quot;Since the admin has already bl…</td><td>&quot;Others&quot;</td><td>0</td><td>&quot;14:11&quot;</td><td>&quot;Others&quot;</td><td>5</td><td>11</td></tr><tr><td>100</td><td>11</td><td>99</td><td>&quot;2021-11-03&quot;</td><td>17</td><td>&quot;Ill apologize to terry but bea…</td><td>&quot;Others&quot;</td><td>0</td><td>&quot;02:07&quot;</td><td>&quot;Others&quot;</td><td>5</td><td>11</td></tr></tbody></table></div>"
      ],
      "text/plain": [
       "shape: (90_356, 12)\n",
       "┌──────────┬───────┬──────────┬────────────┬───┬───────┬───────────────┬───────────────┬───────────┐\n",
       "│ User1 ID ┆ User1 ┆ User2 ID ┆ Date       ┆ … ┆ Time  ┆ User2 Gender  ┆ User2 Grade   ┆ User2 Age │\n",
       "│ ---      ┆ Grade ┆ ---      ┆ ---        ┆   ┆ ---   ┆ ---           ┆ ---           ┆ ---       │\n",
       "│ i64      ┆ ---   ┆ i64      ┆ str        ┆   ┆ str   ┆ str           ┆ i64           ┆ i64       │\n",
       "│          ┆ i64   ┆          ┆            ┆   ┆       ┆               ┆               ┆           │\n",
       "╞══════════╪═══════╪══════════╪════════════╪═══╪═══════╪═══════════════╪═══════════════╪═══════════╡\n",
       "│ 1        ┆ 5     ┆ 2        ┆ 2021-03-04 ┆ … ┆ 10:17 ┆ Male          ┆ 9             ┆ 15        │\n",
       "│ 1        ┆ 5     ┆ 2        ┆ 2022-01-24 ┆ … ┆ 04:27 ┆ Male          ┆ 9             ┆ 15        │\n",
       "│ 1        ┆ 5     ┆ 2        ┆ 2021-02-03 ┆ … ┆ 02:19 ┆ Male          ┆ 9             ┆ 15        │\n",
       "│ 1        ┆ 5     ┆ 2        ┆ 2021-09-04 ┆ … ┆ 08:54 ┆ Male          ┆ 9             ┆ 15        │\n",
       "│ 1        ┆ 5     ┆ 2        ┆ 2021-07-21 ┆ … ┆ 13:15 ┆ Male          ┆ 9             ┆ 15        │\n",
       "│ …        ┆ …     ┆ …        ┆ …          ┆ … ┆ …     ┆ …             ┆ …             ┆ …         │\n",
       "│ 100      ┆ 11    ┆ 98       ┆ 2021-11-21 ┆ … ┆ 11:55 ┆ Others        ┆ 4             ┆ 10        │\n",
       "│ 100      ┆ 11    ┆ 99       ┆ 2021-05-11 ┆ … ┆ 14:39 ┆ Others        ┆ 5             ┆ 11        │\n",
       "│ 100      ┆ 11    ┆ 99       ┆ 2021-11-17 ┆ … ┆ 18:47 ┆ Others        ┆ 5             ┆ 11        │\n",
       "│ 100      ┆ 11    ┆ 99       ┆ 2021-06-07 ┆ … ┆ 14:11 ┆ Others        ┆ 5             ┆ 11        │\n",
       "│ 100      ┆ 11    ┆ 99       ┆ 2021-11-03 ┆ … ┆ 02:07 ┆ Others        ┆ 5             ┆ 11        │\n",
       "└──────────┴───────┴──────────┴────────────┴───┴───────┴───────────────┴───────────────┴───────────┘"
      ]
     },
     "execution_count": 20,
     "metadata": {},
     "output_type": "execute_result"
    }
   ],
   "source": [
    "import polars as pl\n",
    "\n",
    "final_df = pl.read_csv(\"cyberbully_detection_rawdata.csv\")\n",
    "\n",
    "final_df"
   ]
  },
  {
   "cell_type": "code",
   "execution_count": 21,
   "id": "bb48d64f-c6d6-4def-ba9e-1c82d7a377e5",
   "metadata": {},
   "outputs": [],
   "source": [
    "categorical_columns = [\"User1 Gender\", \"User2 Gender\"]\n",
    "mappings = {}\n",
    "\n",
    "for col in categorical_columns:\n",
    "    unique_values = final_df.select(pl.col(col).unique())\n",
    "    mapped = {value: index for index, value in enumerate(unique_values.to_series())}\n",
    "    mappings[col] = mapped\n",
    "\n",
    "mappings = mappings[\"User1 Gender\"] #we are going to use the first one to keep conssitency"
   ]
  },
  {
   "cell_type": "code",
   "execution_count": 22,
   "id": "5b943bca-fb6f-47f5-b706-f7d23eda01cc",
   "metadata": {},
   "outputs": [],
   "source": [
    "mappings = {\"User1 Gender\" : {'Female': 0, 'Male': 1, 'Others': 2},\n",
    "            \"User2 Gender\" : {'Female': 0, 'Male': 1, 'Others': 2}}"
   ]
  },
  {
   "cell_type": "code",
   "execution_count": 23,
   "id": "83179639-fcd2-4ee4-8064-135053242580",
   "metadata": {},
   "outputs": [
    {
     "data": {
      "text/html": [
       "<div><style>\n",
       ".dataframe > thead > tr,\n",
       ".dataframe > tbody > tr {\n",
       "  text-align: right;\n",
       "  white-space: pre-wrap;\n",
       "}\n",
       "</style>\n",
       "<small>shape: (90_356, 14)</small><table border=\"1\" class=\"dataframe\"><thead><tr><th>User1 ID</th><th>User1 Grade</th><th>User2 ID</th><th>Date</th><th>User1 Age</th><th>Message</th><th>User1 Gender</th><th>Label</th><th>Time</th><th>User2 Gender</th><th>User2 Grade</th><th>User2 Age</th><th>User1 Gender_encoded</th><th>User2 Gender_encoded</th></tr><tr><td>i64</td><td>i64</td><td>i64</td><td>str</td><td>i64</td><td>str</td><td>str</td><td>i64</td><td>str</td><td>str</td><td>i64</td><td>i64</td><td>i32</td><td>i32</td></tr></thead><tbody><tr><td>1</td><td>5</td><td>2</td><td>&quot;2021-03-04&quot;</td><td>11</td><td>&quot;bye bye dear bajaj&nbsp;&nbsp;i got some…</td><td>&quot;Others&quot;</td><td>1</td><td>&quot;10:17&quot;</td><td>&quot;Male&quot;</td><td>9</td><td>15</td><td>2</td><td>1</td></tr><tr><td>1</td><td>5</td><td>2</td><td>&quot;2022-01-24&quot;</td><td>11</td><td>&quot;Haha your so funny you sit on …</td><td>&quot;Others&quot;</td><td>1</td><td>&quot;04:27&quot;</td><td>&quot;Male&quot;</td><td>9</td><td>15</td><td>2</td><td>1</td></tr><tr><td>1</td><td>5</td><td>2</td><td>&quot;2021-02-03&quot;</td><td>11</td><td>&quot;My problem is people talking o…</td><td>&quot;Others&quot;</td><td>1</td><td>&quot;02:19&quot;</td><td>&quot;Male&quot;</td><td>9</td><td>15</td><td>2</td><td>1</td></tr><tr><td>1</td><td>5</td><td>2</td><td>&quot;2021-09-04&quot;</td><td>11</td><td>&quot;Article updated&quot;</td><td>&quot;Others&quot;</td><td>0</td><td>&quot;08:54&quot;</td><td>&quot;Male&quot;</td><td>9</td><td>15</td><td>2</td><td>1</td></tr><tr><td>1</td><td>5</td><td>2</td><td>&quot;2021-07-21&quot;</td><td>11</td><td>&quot;Well arent you phucking specia…</td><td>&quot;Others&quot;</td><td>1</td><td>&quot;13:15&quot;</td><td>&quot;Male&quot;</td><td>9</td><td>15</td><td>2</td><td>1</td></tr><tr><td>&hellip;</td><td>&hellip;</td><td>&hellip;</td><td>&hellip;</td><td>&hellip;</td><td>&hellip;</td><td>&hellip;</td><td>&hellip;</td><td>&hellip;</td><td>&hellip;</td><td>&hellip;</td><td>&hellip;</td><td>&hellip;</td><td>&hellip;</td></tr><tr><td>100</td><td>11</td><td>98</td><td>&quot;2021-11-21&quot;</td><td>17</td><td>&quot;No youre right it was a lame i…</td><td>&quot;Others&quot;</td><td>0</td><td>&quot;11:55&quot;</td><td>&quot;Others&quot;</td><td>4</td><td>10</td><td>2</td><td>2</td></tr><tr><td>100</td><td>11</td><td>99</td><td>&quot;2021-05-11&quot;</td><td>17</td><td>&quot;break stuff&nbsp;&nbsp;&nbsp;did you really b…</td><td>&quot;Others&quot;</td><td>0</td><td>&quot;14:39&quot;</td><td>&quot;Others&quot;</td><td>5</td><td>11</td><td>2</td><td>2</td></tr><tr><td>100</td><td>11</td><td>99</td><td>&quot;2021-11-17&quot;</td><td>17</td><td>&quot;Stifle You might like to consu…</td><td>&quot;Others&quot;</td><td>0</td><td>&quot;18:47&quot;</td><td>&quot;Others&quot;</td><td>5</td><td>11</td><td>2</td><td>2</td></tr><tr><td>100</td><td>11</td><td>99</td><td>&quot;2021-06-07&quot;</td><td>17</td><td>&quot;Since the admin has already bl…</td><td>&quot;Others&quot;</td><td>0</td><td>&quot;14:11&quot;</td><td>&quot;Others&quot;</td><td>5</td><td>11</td><td>2</td><td>2</td></tr><tr><td>100</td><td>11</td><td>99</td><td>&quot;2021-11-03&quot;</td><td>17</td><td>&quot;Ill apologize to terry but bea…</td><td>&quot;Others&quot;</td><td>0</td><td>&quot;02:07&quot;</td><td>&quot;Others&quot;</td><td>5</td><td>11</td><td>2</td><td>2</td></tr></tbody></table></div>"
      ],
      "text/plain": [
       "shape: (90_356, 14)\n",
       "┌──────────┬───────┬──────────┬──────────────┬───┬───────┬───────────┬──────────────┬──────────────┐\n",
       "│ User1 ID ┆ User1 ┆ User2 ID ┆ Date         ┆ … ┆ User2 ┆ User2 Age ┆ User1 Gender ┆ User2 Gender │\n",
       "│ ---      ┆ Grade ┆ ---      ┆ ---          ┆   ┆ Grade ┆ ---       ┆ _encoded     ┆ _encoded     │\n",
       "│ i64      ┆ ---   ┆ i64      ┆ str          ┆   ┆ ---   ┆ i64       ┆ ---          ┆ ---          │\n",
       "│          ┆ i64   ┆          ┆              ┆   ┆ i64   ┆           ┆ i32          ┆ i32          │\n",
       "╞══════════╪═══════╪══════════╪══════════════╪═══╪═══════╪═══════════╪══════════════╪══════════════╡\n",
       "│ 1        ┆ 5     ┆ 2        ┆ 2021-03-04   ┆ … ┆ 9     ┆ 15        ┆ 2            ┆ 1            │\n",
       "│ 1        ┆ 5     ┆ 2        ┆ 2022-01-24   ┆ … ┆ 9     ┆ 15        ┆ 2            ┆ 1            │\n",
       "│ 1        ┆ 5     ┆ 2        ┆ 2021-02-03   ┆ … ┆ 9     ┆ 15        ┆ 2            ┆ 1            │\n",
       "│ 1        ┆ 5     ┆ 2        ┆ 2021-09-04   ┆ … ┆ 9     ┆ 15        ┆ 2            ┆ 1            │\n",
       "│ 1        ┆ 5     ┆ 2        ┆ 2021-07-21   ┆ … ┆ 9     ┆ 15        ┆ 2            ┆ 1            │\n",
       "│ …        ┆ …     ┆ …        ┆ …            ┆ … ┆ …     ┆ …         ┆ …            ┆ …            │\n",
       "│ 100      ┆ 11    ┆ 98       ┆ 2021-11-21   ┆ … ┆ 4     ┆ 10        ┆ 2            ┆ 2            │\n",
       "│ 100      ┆ 11    ┆ 99       ┆ 2021-05-11   ┆ … ┆ 5     ┆ 11        ┆ 2            ┆ 2            │\n",
       "│ 100      ┆ 11    ┆ 99       ┆ 2021-11-17   ┆ … ┆ 5     ┆ 11        ┆ 2            ┆ 2            │\n",
       "│ 100      ┆ 11    ┆ 99       ┆ 2021-06-07   ┆ … ┆ 5     ┆ 11        ┆ 2            ┆ 2            │\n",
       "│ 100      ┆ 11    ┆ 99       ┆ 2021-11-03   ┆ … ┆ 5     ┆ 11        ┆ 2            ┆ 2            │\n",
       "└──────────┴───────┴──────────┴──────────────┴───┴───────┴───────────┴──────────────┴──────────────┘"
      ]
     },
     "execution_count": 23,
     "metadata": {},
     "output_type": "execute_result"
    }
   ],
   "source": [
    "final_df = final_df.with_columns(\n",
    "    [pl.col(col).replace(mappings[col]).cast(pl.Int32).alias(f\"{col}_encoded\") for col in categorical_columns])\n",
    "final_df"
   ]
  },
  {
   "cell_type": "markdown",
   "id": "53bc1dbd-8155-424e-a0e7-904edf45cfca",
   "metadata": {},
   "source": [
    "### 3. drop all the unnnecessary or uninformative columns."
   ]
  },
  {
   "cell_type": "code",
   "execution_count": 24,
   "id": "e89d0b4c-bd38-48ef-9891-1013891111d1",
   "metadata": {},
   "outputs": [],
   "source": [
    "important_columns = set([col for col in final_df.columns if col not in {\"Date\", \"Time\"}])"
   ]
  },
  {
   "cell_type": "code",
   "execution_count": 25,
   "id": "99ecbf44-1124-481c-9909-cd5053af6beb",
   "metadata": {},
   "outputs": [],
   "source": [
    "final_df = final_df.select([pl.col(col) for col in important_columns])"
   ]
  },
  {
   "cell_type": "code",
   "execution_count": 26,
   "id": "e3ca9eeb-865f-43af-b246-788c1f4e52e9",
   "metadata": {},
   "outputs": [
    {
     "data": {
      "text/html": [
       "<div><style>\n",
       ".dataframe > thead > tr,\n",
       ".dataframe > tbody > tr {\n",
       "  text-align: right;\n",
       "  white-space: pre-wrap;\n",
       "}\n",
       "</style>\n",
       "<small>shape: (90_356, 12)</small><table border=\"1\" class=\"dataframe\"><thead><tr><th>User2 Gender_encoded</th><th>User1 ID</th><th>User1 Grade</th><th>User2 Gender</th><th>User2 Grade</th><th>User2 ID</th><th>User1 Age</th><th>Message</th><th>User1 Gender</th><th>User2 Age</th><th>User1 Gender_encoded</th><th>Label</th></tr><tr><td>i32</td><td>i64</td><td>i64</td><td>str</td><td>i64</td><td>i64</td><td>i64</td><td>str</td><td>str</td><td>i64</td><td>i32</td><td>i64</td></tr></thead><tbody><tr><td>1</td><td>1</td><td>5</td><td>&quot;Male&quot;</td><td>9</td><td>2</td><td>11</td><td>&quot;bye bye dear bajaj&nbsp;&nbsp;i got some…</td><td>&quot;Others&quot;</td><td>15</td><td>2</td><td>1</td></tr><tr><td>1</td><td>1</td><td>5</td><td>&quot;Male&quot;</td><td>9</td><td>2</td><td>11</td><td>&quot;Haha your so funny you sit on …</td><td>&quot;Others&quot;</td><td>15</td><td>2</td><td>1</td></tr><tr><td>1</td><td>1</td><td>5</td><td>&quot;Male&quot;</td><td>9</td><td>2</td><td>11</td><td>&quot;My problem is people talking o…</td><td>&quot;Others&quot;</td><td>15</td><td>2</td><td>1</td></tr><tr><td>1</td><td>1</td><td>5</td><td>&quot;Male&quot;</td><td>9</td><td>2</td><td>11</td><td>&quot;Article updated&quot;</td><td>&quot;Others&quot;</td><td>15</td><td>2</td><td>0</td></tr><tr><td>1</td><td>1</td><td>5</td><td>&quot;Male&quot;</td><td>9</td><td>2</td><td>11</td><td>&quot;Well arent you phucking specia…</td><td>&quot;Others&quot;</td><td>15</td><td>2</td><td>1</td></tr><tr><td>&hellip;</td><td>&hellip;</td><td>&hellip;</td><td>&hellip;</td><td>&hellip;</td><td>&hellip;</td><td>&hellip;</td><td>&hellip;</td><td>&hellip;</td><td>&hellip;</td><td>&hellip;</td><td>&hellip;</td></tr><tr><td>2</td><td>100</td><td>11</td><td>&quot;Others&quot;</td><td>4</td><td>98</td><td>17</td><td>&quot;No youre right it was a lame i…</td><td>&quot;Others&quot;</td><td>10</td><td>2</td><td>0</td></tr><tr><td>2</td><td>100</td><td>11</td><td>&quot;Others&quot;</td><td>5</td><td>99</td><td>17</td><td>&quot;break stuff&nbsp;&nbsp;&nbsp;did you really b…</td><td>&quot;Others&quot;</td><td>11</td><td>2</td><td>0</td></tr><tr><td>2</td><td>100</td><td>11</td><td>&quot;Others&quot;</td><td>5</td><td>99</td><td>17</td><td>&quot;Stifle You might like to consu…</td><td>&quot;Others&quot;</td><td>11</td><td>2</td><td>0</td></tr><tr><td>2</td><td>100</td><td>11</td><td>&quot;Others&quot;</td><td>5</td><td>99</td><td>17</td><td>&quot;Since the admin has already bl…</td><td>&quot;Others&quot;</td><td>11</td><td>2</td><td>0</td></tr><tr><td>2</td><td>100</td><td>11</td><td>&quot;Others&quot;</td><td>5</td><td>99</td><td>17</td><td>&quot;Ill apologize to terry but bea…</td><td>&quot;Others&quot;</td><td>11</td><td>2</td><td>0</td></tr></tbody></table></div>"
      ],
      "text/plain": [
       "shape: (90_356, 12)\n",
       "┌───────────────┬──────────┬───────┬────────┬───┬───────────────┬───────────┬──────────────┬───────┐\n",
       "│ User2 Gender_ ┆ User1 ID ┆ User1 ┆ User2  ┆ … ┆ User1 Gender  ┆ User2 Age ┆ User1 Gender ┆ Label │\n",
       "│ encoded       ┆ ---      ┆ Grade ┆ Gender ┆   ┆ ---           ┆ ---       ┆ _encoded     ┆ ---   │\n",
       "│ ---           ┆ i64      ┆ ---   ┆ ---    ┆   ┆ str           ┆ i64       ┆ ---          ┆ i64   │\n",
       "│ i32           ┆          ┆ i64   ┆ str    ┆   ┆               ┆           ┆ i32          ┆       │\n",
       "╞═══════════════╪══════════╪═══════╪════════╪═══╪═══════════════╪═══════════╪══════════════╪═══════╡\n",
       "│ 1             ┆ 1        ┆ 5     ┆ Male   ┆ … ┆ Others        ┆ 15        ┆ 2            ┆ 1     │\n",
       "│ 1             ┆ 1        ┆ 5     ┆ Male   ┆ … ┆ Others        ┆ 15        ┆ 2            ┆ 1     │\n",
       "│ 1             ┆ 1        ┆ 5     ┆ Male   ┆ … ┆ Others        ┆ 15        ┆ 2            ┆ 1     │\n",
       "│ 1             ┆ 1        ┆ 5     ┆ Male   ┆ … ┆ Others        ┆ 15        ┆ 2            ┆ 0     │\n",
       "│ 1             ┆ 1        ┆ 5     ┆ Male   ┆ … ┆ Others        ┆ 15        ┆ 2            ┆ 1     │\n",
       "│ …             ┆ …        ┆ …     ┆ …      ┆ … ┆ …             ┆ …         ┆ …            ┆ …     │\n",
       "│ 2             ┆ 100      ┆ 11    ┆ Others ┆ … ┆ Others        ┆ 10        ┆ 2            ┆ 0     │\n",
       "│ 2             ┆ 100      ┆ 11    ┆ Others ┆ … ┆ Others        ┆ 11        ┆ 2            ┆ 0     │\n",
       "│ 2             ┆ 100      ┆ 11    ┆ Others ┆ … ┆ Others        ┆ 11        ┆ 2            ┆ 0     │\n",
       "│ 2             ┆ 100      ┆ 11    ┆ Others ┆ … ┆ Others        ┆ 11        ┆ 2            ┆ 0     │\n",
       "│ 2             ┆ 100      ┆ 11    ┆ Others ┆ … ┆ Others        ┆ 11        ┆ 2            ┆ 0     │\n",
       "└───────────────┴──────────┴───────┴────────┴───┴───────────────┴───────────┴──────────────┴───────┘"
      ]
     },
     "execution_count": 26,
     "metadata": {},
     "output_type": "execute_result"
    }
   ],
   "source": [
    "final_df"
   ]
  },
  {
   "cell_type": "code",
   "execution_count": 27,
   "id": "d2aff256-2210-4a89-b3b3-97233dc2fafd",
   "metadata": {},
   "outputs": [
    {
     "data": {
      "text/html": [
       "<div><style>\n",
       ".dataframe > thead > tr,\n",
       ".dataframe > tbody > tr {\n",
       "  text-align: right;\n",
       "  white-space: pre-wrap;\n",
       "}\n",
       "</style>\n",
       "<small>shape: (90_356, 12)</small><table border=\"1\" class=\"dataframe\"><thead><tr><th>User1 ID</th><th>User2 ID</th><th>User1 Age</th><th>User2 Age</th><th>User1 Grade</th><th>User2 Grade</th><th>User1 Gender</th><th>User2 Gender</th><th>User1 Gender_encoded</th><th>User2 Gender_encoded</th><th>Message</th><th>Label</th></tr><tr><td>i64</td><td>i64</td><td>i64</td><td>i64</td><td>i64</td><td>i64</td><td>str</td><td>str</td><td>i32</td><td>i32</td><td>str</td><td>i64</td></tr></thead><tbody><tr><td>1</td><td>2</td><td>11</td><td>15</td><td>5</td><td>9</td><td>&quot;Others&quot;</td><td>&quot;Male&quot;</td><td>2</td><td>1</td><td>&quot;bye bye dear bajaj&nbsp;&nbsp;i got some…</td><td>1</td></tr><tr><td>1</td><td>2</td><td>11</td><td>15</td><td>5</td><td>9</td><td>&quot;Others&quot;</td><td>&quot;Male&quot;</td><td>2</td><td>1</td><td>&quot;Haha your so funny you sit on …</td><td>1</td></tr><tr><td>1</td><td>2</td><td>11</td><td>15</td><td>5</td><td>9</td><td>&quot;Others&quot;</td><td>&quot;Male&quot;</td><td>2</td><td>1</td><td>&quot;My problem is people talking o…</td><td>1</td></tr><tr><td>1</td><td>2</td><td>11</td><td>15</td><td>5</td><td>9</td><td>&quot;Others&quot;</td><td>&quot;Male&quot;</td><td>2</td><td>1</td><td>&quot;Article updated&quot;</td><td>0</td></tr><tr><td>1</td><td>2</td><td>11</td><td>15</td><td>5</td><td>9</td><td>&quot;Others&quot;</td><td>&quot;Male&quot;</td><td>2</td><td>1</td><td>&quot;Well arent you phucking specia…</td><td>1</td></tr><tr><td>&hellip;</td><td>&hellip;</td><td>&hellip;</td><td>&hellip;</td><td>&hellip;</td><td>&hellip;</td><td>&hellip;</td><td>&hellip;</td><td>&hellip;</td><td>&hellip;</td><td>&hellip;</td><td>&hellip;</td></tr><tr><td>100</td><td>98</td><td>17</td><td>10</td><td>11</td><td>4</td><td>&quot;Others&quot;</td><td>&quot;Others&quot;</td><td>2</td><td>2</td><td>&quot;No youre right it was a lame i…</td><td>0</td></tr><tr><td>100</td><td>99</td><td>17</td><td>11</td><td>11</td><td>5</td><td>&quot;Others&quot;</td><td>&quot;Others&quot;</td><td>2</td><td>2</td><td>&quot;break stuff&nbsp;&nbsp;&nbsp;did you really b…</td><td>0</td></tr><tr><td>100</td><td>99</td><td>17</td><td>11</td><td>11</td><td>5</td><td>&quot;Others&quot;</td><td>&quot;Others&quot;</td><td>2</td><td>2</td><td>&quot;Stifle You might like to consu…</td><td>0</td></tr><tr><td>100</td><td>99</td><td>17</td><td>11</td><td>11</td><td>5</td><td>&quot;Others&quot;</td><td>&quot;Others&quot;</td><td>2</td><td>2</td><td>&quot;Since the admin has already bl…</td><td>0</td></tr><tr><td>100</td><td>99</td><td>17</td><td>11</td><td>11</td><td>5</td><td>&quot;Others&quot;</td><td>&quot;Others&quot;</td><td>2</td><td>2</td><td>&quot;Ill apologize to terry but bea…</td><td>0</td></tr></tbody></table></div>"
      ],
      "text/plain": [
       "shape: (90_356, 12)\n",
       "┌──────────┬──────────┬───────────┬───────────┬───┬─────────────┬─────────────┬────────────┬───────┐\n",
       "│ User1 ID ┆ User2 ID ┆ User1 Age ┆ User2 Age ┆ … ┆ User1 Gende ┆ User2 Gende ┆ Message    ┆ Label │\n",
       "│ ---      ┆ ---      ┆ ---       ┆ ---       ┆   ┆ r_encoded   ┆ r_encoded   ┆ ---        ┆ ---   │\n",
       "│ i64      ┆ i64      ┆ i64       ┆ i64       ┆   ┆ ---         ┆ ---         ┆ str        ┆ i64   │\n",
       "│          ┆          ┆           ┆           ┆   ┆ i32         ┆ i32         ┆            ┆       │\n",
       "╞══════════╪══════════╪═══════════╪═══════════╪═══╪═════════════╪═════════════╪════════════╪═══════╡\n",
       "│ 1        ┆ 2        ┆ 11        ┆ 15        ┆ … ┆ 2           ┆ 1           ┆ bye bye    ┆ 1     │\n",
       "│          ┆          ┆           ┆           ┆   ┆             ┆             ┆ dear bajaj ┆       │\n",
       "│          ┆          ┆           ┆           ┆   ┆             ┆             ┆ i got      ┆       │\n",
       "│          ┆          ┆           ┆           ┆   ┆             ┆             ┆ some…      ┆       │\n",
       "│ 1        ┆ 2        ┆ 11        ┆ 15        ┆ … ┆ 2           ┆ 1           ┆ Haha your  ┆ 1     │\n",
       "│          ┆          ┆           ┆           ┆   ┆             ┆             ┆ so funny   ┆       │\n",
       "│          ┆          ┆           ┆           ┆   ┆             ┆             ┆ you sit on ┆       │\n",
       "│          ┆          ┆           ┆           ┆   ┆             ┆             ┆ …          ┆       │\n",
       "│ 1        ┆ 2        ┆ 11        ┆ 15        ┆ … ┆ 2           ┆ 1           ┆ My problem ┆ 1     │\n",
       "│          ┆          ┆           ┆           ┆   ┆             ┆             ┆ is people  ┆       │\n",
       "│          ┆          ┆           ┆           ┆   ┆             ┆             ┆ talking o… ┆       │\n",
       "│ 1        ┆ 2        ┆ 11        ┆ 15        ┆ … ┆ 2           ┆ 1           ┆ Article    ┆ 0     │\n",
       "│          ┆          ┆           ┆           ┆   ┆             ┆             ┆ updated    ┆       │\n",
       "│ 1        ┆ 2        ┆ 11        ┆ 15        ┆ … ┆ 2           ┆ 1           ┆ Well arent ┆ 1     │\n",
       "│          ┆          ┆           ┆           ┆   ┆             ┆             ┆ you        ┆       │\n",
       "│          ┆          ┆           ┆           ┆   ┆             ┆             ┆ phucking   ┆       │\n",
       "│          ┆          ┆           ┆           ┆   ┆             ┆             ┆ specia…    ┆       │\n",
       "│ …        ┆ …        ┆ …         ┆ …         ┆ … ┆ …           ┆ …           ┆ …          ┆ …     │\n",
       "│ 100      ┆ 98       ┆ 17        ┆ 10        ┆ … ┆ 2           ┆ 2           ┆ No youre   ┆ 0     │\n",
       "│          ┆          ┆           ┆           ┆   ┆             ┆             ┆ right it   ┆       │\n",
       "│          ┆          ┆           ┆           ┆   ┆             ┆             ┆ was a lame ┆       │\n",
       "│          ┆          ┆           ┆           ┆   ┆             ┆             ┆ i…         ┆       │\n",
       "│ 100      ┆ 99       ┆ 17        ┆ 11        ┆ … ┆ 2           ┆ 2           ┆ break      ┆ 0     │\n",
       "│          ┆          ┆           ┆           ┆   ┆             ┆             ┆ stuff      ┆       │\n",
       "│          ┆          ┆           ┆           ┆   ┆             ┆             ┆ did you    ┆       │\n",
       "│          ┆          ┆           ┆           ┆   ┆             ┆             ┆ really b…  ┆       │\n",
       "│ 100      ┆ 99       ┆ 17        ┆ 11        ┆ … ┆ 2           ┆ 2           ┆ Stifle You ┆ 0     │\n",
       "│          ┆          ┆           ┆           ┆   ┆             ┆             ┆ might like ┆       │\n",
       "│          ┆          ┆           ┆           ┆   ┆             ┆             ┆ to consu…  ┆       │\n",
       "│ 100      ┆ 99       ┆ 17        ┆ 11        ┆ … ┆ 2           ┆ 2           ┆ Since the  ┆ 0     │\n",
       "│          ┆          ┆           ┆           ┆   ┆             ┆             ┆ admin has  ┆       │\n",
       "│          ┆          ┆           ┆           ┆   ┆             ┆             ┆ already    ┆       │\n",
       "│          ┆          ┆           ┆           ┆   ┆             ┆             ┆ bl…        ┆       │\n",
       "│ 100      ┆ 99       ┆ 17        ┆ 11        ┆ … ┆ 2           ┆ 2           ┆ Ill        ┆ 0     │\n",
       "│          ┆          ┆           ┆           ┆   ┆             ┆             ┆ apologize  ┆       │\n",
       "│          ┆          ┆           ┆           ┆   ┆             ┆             ┆ to terry   ┆       │\n",
       "│          ┆          ┆           ┆           ┆   ┆             ┆             ┆ but bea…   ┆       │\n",
       "└──────────┴──────────┴───────────┴───────────┴───┴─────────────┴─────────────┴────────────┴───────┘"
      ]
     },
     "execution_count": 27,
     "metadata": {},
     "output_type": "execute_result"
    }
   ],
   "source": [
    "df_ordered =  final_df.select([\"User1 ID\", \"User2 ID\", \"User1 Age\", \"User2 Age\", \"User1 Grade\", \"User2 Grade\", \"User1 Gender\", \"User2 Gender\", \"User1 Gender_encoded\", \"User2 Gender_encoded\", \"Message\", \"Label\"])\n",
    "df_ordered"
   ]
  },
  {
   "cell_type": "code",
   "execution_count": 28,
   "id": "acba8f65-4f7f-4646-8279-2cf1738ccd1a",
   "metadata": {},
   "outputs": [],
   "source": [
    "df_ordered.write_csv(\"cyberbulling_cleantdata.csv\")\n",
    "del df_ordered, final_df\n",
    "del pl"
   ]
  },
  {
   "cell_type": "markdown",
   "id": "33a07ade-a4df-44b3-8418-b331fb8dc52c",
   "metadata": {},
   "source": [
    "### 4. run descriptive statistics over the sample."
   ]
  },
  {
   "cell_type": "code",
   "execution_count": 1,
   "id": "2e76fb3c-1934-4d4f-b2b2-dcc505f5e8ef",
   "metadata": {},
   "outputs": [],
   "source": [
    "import polars as pl"
   ]
  },
  {
   "cell_type": "code",
   "execution_count": 2,
   "id": "c7321a61-2577-4b0e-8b3f-e4a226eb0803",
   "metadata": {},
   "outputs": [
    {
     "data": {
      "text/html": [
       "<div><style>\n",
       ".dataframe > thead > tr,\n",
       ".dataframe > tbody > tr {\n",
       "  text-align: right;\n",
       "  white-space: pre-wrap;\n",
       "}\n",
       "</style>\n",
       "<small>shape: (90_356, 12)</small><table border=\"1\" class=\"dataframe\"><thead><tr><th>User1 ID</th><th>User2 ID</th><th>User1 Age</th><th>User2 Age</th><th>User1 Grade</th><th>User2 Grade</th><th>User1 Gender</th><th>User2 Gender</th><th>User1 Gender_encoded</th><th>User2 Gender_encoded</th><th>Message</th><th>Label</th></tr><tr><td>i64</td><td>i64</td><td>i64</td><td>i64</td><td>i64</td><td>i64</td><td>str</td><td>str</td><td>i64</td><td>i64</td><td>str</td><td>i64</td></tr></thead><tbody><tr><td>1</td><td>2</td><td>11</td><td>15</td><td>5</td><td>9</td><td>&quot;Others&quot;</td><td>&quot;Male&quot;</td><td>2</td><td>1</td><td>&quot;bye bye dear bajaj&nbsp;&nbsp;i got some…</td><td>1</td></tr><tr><td>1</td><td>2</td><td>11</td><td>15</td><td>5</td><td>9</td><td>&quot;Others&quot;</td><td>&quot;Male&quot;</td><td>2</td><td>1</td><td>&quot;Haha your so funny you sit on …</td><td>1</td></tr><tr><td>1</td><td>2</td><td>11</td><td>15</td><td>5</td><td>9</td><td>&quot;Others&quot;</td><td>&quot;Male&quot;</td><td>2</td><td>1</td><td>&quot;My problem is people talking o…</td><td>1</td></tr><tr><td>1</td><td>2</td><td>11</td><td>15</td><td>5</td><td>9</td><td>&quot;Others&quot;</td><td>&quot;Male&quot;</td><td>2</td><td>1</td><td>&quot;Article updated&quot;</td><td>0</td></tr><tr><td>1</td><td>2</td><td>11</td><td>15</td><td>5</td><td>9</td><td>&quot;Others&quot;</td><td>&quot;Male&quot;</td><td>2</td><td>1</td><td>&quot;Well arent you phucking specia…</td><td>1</td></tr><tr><td>&hellip;</td><td>&hellip;</td><td>&hellip;</td><td>&hellip;</td><td>&hellip;</td><td>&hellip;</td><td>&hellip;</td><td>&hellip;</td><td>&hellip;</td><td>&hellip;</td><td>&hellip;</td><td>&hellip;</td></tr><tr><td>100</td><td>98</td><td>17</td><td>10</td><td>11</td><td>4</td><td>&quot;Others&quot;</td><td>&quot;Others&quot;</td><td>2</td><td>2</td><td>&quot;No youre right it was a lame i…</td><td>0</td></tr><tr><td>100</td><td>99</td><td>17</td><td>11</td><td>11</td><td>5</td><td>&quot;Others&quot;</td><td>&quot;Others&quot;</td><td>2</td><td>2</td><td>&quot;break stuff&nbsp;&nbsp;&nbsp;did you really b…</td><td>0</td></tr><tr><td>100</td><td>99</td><td>17</td><td>11</td><td>11</td><td>5</td><td>&quot;Others&quot;</td><td>&quot;Others&quot;</td><td>2</td><td>2</td><td>&quot;Stifle You might like to consu…</td><td>0</td></tr><tr><td>100</td><td>99</td><td>17</td><td>11</td><td>11</td><td>5</td><td>&quot;Others&quot;</td><td>&quot;Others&quot;</td><td>2</td><td>2</td><td>&quot;Since the admin has already bl…</td><td>0</td></tr><tr><td>100</td><td>99</td><td>17</td><td>11</td><td>11</td><td>5</td><td>&quot;Others&quot;</td><td>&quot;Others&quot;</td><td>2</td><td>2</td><td>&quot;Ill apologize to terry but bea…</td><td>0</td></tr></tbody></table></div>"
      ],
      "text/plain": [
       "shape: (90_356, 12)\n",
       "┌──────────┬──────────┬───────────┬───────────┬───┬─────────────┬─────────────┬────────────┬───────┐\n",
       "│ User1 ID ┆ User2 ID ┆ User1 Age ┆ User2 Age ┆ … ┆ User1 Gende ┆ User2 Gende ┆ Message    ┆ Label │\n",
       "│ ---      ┆ ---      ┆ ---       ┆ ---       ┆   ┆ r_encoded   ┆ r_encoded   ┆ ---        ┆ ---   │\n",
       "│ i64      ┆ i64      ┆ i64       ┆ i64       ┆   ┆ ---         ┆ ---         ┆ str        ┆ i64   │\n",
       "│          ┆          ┆           ┆           ┆   ┆ i64         ┆ i64         ┆            ┆       │\n",
       "╞══════════╪══════════╪═══════════╪═══════════╪═══╪═════════════╪═════════════╪════════════╪═══════╡\n",
       "│ 1        ┆ 2        ┆ 11        ┆ 15        ┆ … ┆ 2           ┆ 1           ┆ bye bye    ┆ 1     │\n",
       "│          ┆          ┆           ┆           ┆   ┆             ┆             ┆ dear bajaj ┆       │\n",
       "│          ┆          ┆           ┆           ┆   ┆             ┆             ┆ i got      ┆       │\n",
       "│          ┆          ┆           ┆           ┆   ┆             ┆             ┆ some…      ┆       │\n",
       "│ 1        ┆ 2        ┆ 11        ┆ 15        ┆ … ┆ 2           ┆ 1           ┆ Haha your  ┆ 1     │\n",
       "│          ┆          ┆           ┆           ┆   ┆             ┆             ┆ so funny   ┆       │\n",
       "│          ┆          ┆           ┆           ┆   ┆             ┆             ┆ you sit on ┆       │\n",
       "│          ┆          ┆           ┆           ┆   ┆             ┆             ┆ …          ┆       │\n",
       "│ 1        ┆ 2        ┆ 11        ┆ 15        ┆ … ┆ 2           ┆ 1           ┆ My problem ┆ 1     │\n",
       "│          ┆          ┆           ┆           ┆   ┆             ┆             ┆ is people  ┆       │\n",
       "│          ┆          ┆           ┆           ┆   ┆             ┆             ┆ talking o… ┆       │\n",
       "│ 1        ┆ 2        ┆ 11        ┆ 15        ┆ … ┆ 2           ┆ 1           ┆ Article    ┆ 0     │\n",
       "│          ┆          ┆           ┆           ┆   ┆             ┆             ┆ updated    ┆       │\n",
       "│ 1        ┆ 2        ┆ 11        ┆ 15        ┆ … ┆ 2           ┆ 1           ┆ Well arent ┆ 1     │\n",
       "│          ┆          ┆           ┆           ┆   ┆             ┆             ┆ you        ┆       │\n",
       "│          ┆          ┆           ┆           ┆   ┆             ┆             ┆ phucking   ┆       │\n",
       "│          ┆          ┆           ┆           ┆   ┆             ┆             ┆ specia…    ┆       │\n",
       "│ …        ┆ …        ┆ …         ┆ …         ┆ … ┆ …           ┆ …           ┆ …          ┆ …     │\n",
       "│ 100      ┆ 98       ┆ 17        ┆ 10        ┆ … ┆ 2           ┆ 2           ┆ No youre   ┆ 0     │\n",
       "│          ┆          ┆           ┆           ┆   ┆             ┆             ┆ right it   ┆       │\n",
       "│          ┆          ┆           ┆           ┆   ┆             ┆             ┆ was a lame ┆       │\n",
       "│          ┆          ┆           ┆           ┆   ┆             ┆             ┆ i…         ┆       │\n",
       "│ 100      ┆ 99       ┆ 17        ┆ 11        ┆ … ┆ 2           ┆ 2           ┆ break      ┆ 0     │\n",
       "│          ┆          ┆           ┆           ┆   ┆             ┆             ┆ stuff      ┆       │\n",
       "│          ┆          ┆           ┆           ┆   ┆             ┆             ┆ did you    ┆       │\n",
       "│          ┆          ┆           ┆           ┆   ┆             ┆             ┆ really b…  ┆       │\n",
       "│ 100      ┆ 99       ┆ 17        ┆ 11        ┆ … ┆ 2           ┆ 2           ┆ Stifle You ┆ 0     │\n",
       "│          ┆          ┆           ┆           ┆   ┆             ┆             ┆ might like ┆       │\n",
       "│          ┆          ┆           ┆           ┆   ┆             ┆             ┆ to consu…  ┆       │\n",
       "│ 100      ┆ 99       ┆ 17        ┆ 11        ┆ … ┆ 2           ┆ 2           ┆ Since the  ┆ 0     │\n",
       "│          ┆          ┆           ┆           ┆   ┆             ┆             ┆ admin has  ┆       │\n",
       "│          ┆          ┆           ┆           ┆   ┆             ┆             ┆ already    ┆       │\n",
       "│          ┆          ┆           ┆           ┆   ┆             ┆             ┆ bl…        ┆       │\n",
       "│ 100      ┆ 99       ┆ 17        ┆ 11        ┆ … ┆ 2           ┆ 2           ┆ Ill        ┆ 0     │\n",
       "│          ┆          ┆           ┆           ┆   ┆             ┆             ┆ apologize  ┆       │\n",
       "│          ┆          ┆           ┆           ┆   ┆             ┆             ┆ to terry   ┆       │\n",
       "│          ┆          ┆           ┆           ┆   ┆             ┆             ┆ but bea…   ┆       │\n",
       "└──────────┴──────────┴───────────┴───────────┴───┴─────────────┴─────────────┴────────────┴───────┘"
      ]
     },
     "execution_count": 2,
     "metadata": {},
     "output_type": "execute_result"
    }
   ],
   "source": [
    "df = pl.read_csv(\"cyberbulling_cleantdata.csv\")\n",
    "df"
   ]
  },
  {
   "cell_type": "code",
   "execution_count": 3,
   "id": "381848ec-acfd-4293-8c21-5067f5a49ca2",
   "metadata": {},
   "outputs": [
    {
     "data": {
      "text/html": [
       "<div><style>\n",
       ".dataframe > thead > tr,\n",
       ".dataframe > tbody > tr {\n",
       "  text-align: right;\n",
       "  white-space: pre-wrap;\n",
       "}\n",
       "</style>\n",
       "<small>shape: (9, 13)</small><table border=\"1\" class=\"dataframe\"><thead><tr><th>statistic</th><th>User1 ID</th><th>User2 ID</th><th>User1 Age</th><th>User2 Age</th><th>User1 Grade</th><th>User2 Grade</th><th>User1 Gender</th><th>User2 Gender</th><th>User1 Gender_encoded</th><th>User2 Gender_encoded</th><th>Message</th><th>Label</th></tr><tr><td>str</td><td>f64</td><td>f64</td><td>f64</td><td>f64</td><td>f64</td><td>f64</td><td>str</td><td>str</td><td>f64</td><td>f64</td><td>str</td><td>f64</td></tr></thead><tbody><tr><td>&quot;count&quot;</td><td>90356.0</td><td>90356.0</td><td>90356.0</td><td>90356.0</td><td>90356.0</td><td>90356.0</td><td>&quot;90356&quot;</td><td>&quot;90356&quot;</td><td>90356.0</td><td>90356.0</td><td>&quot;90356&quot;</td><td>90356.0</td></tr><tr><td>&quot;null_count&quot;</td><td>0.0</td><td>0.0</td><td>0.0</td><td>0.0</td><td>0.0</td><td>0.0</td><td>&quot;0&quot;</td><td>&quot;0&quot;</td><td>0.0</td><td>0.0</td><td>&quot;0&quot;</td><td>0.0</td></tr><tr><td>&quot;mean&quot;</td><td>37.839889</td><td>50.404489</td><td>12.872183</td><td>12.637711</td><td>6.872183</td><td>6.637711</td><td>null</td><td>null</td><td>1.105981</td><td>1.142592</td><td>null</td><td>0.340619</td></tr><tr><td>&quot;std&quot;</td><td>27.877329</td><td>28.737165</td><td>3.206899</td><td>3.206858</td><td>3.206899</td><td>3.206858</td><td>null</td><td>null</td><td>0.818922</td><td>0.84821</td><td>null</td><td>0.47392</td></tr><tr><td>&quot;min&quot;</td><td>1.0</td><td>1.0</td><td>8.0</td><td>8.0</td><td>2.0</td><td>2.0</td><td>&quot;Female&quot;</td><td>&quot;Female&quot;</td><td>0.0</td><td>0.0</td><td>&quot;A&nbsp;&nbsp;&nbsp;&nbsp;&nbsp;suck on that whores MKR&quot;</td><td>0.0</td></tr><tr><td>&quot;25%&quot;</td><td>14.0</td><td>26.0</td><td>10.0</td><td>10.0</td><td>4.0</td><td>4.0</td><td>null</td><td>null</td><td>0.0</td><td>0.0</td><td>null</td><td>0.0</td></tr><tr><td>&quot;50%&quot;</td><td>32.0</td><td>50.0</td><td>13.0</td><td>13.0</td><td>7.0</td><td>7.0</td><td>null</td><td>null</td><td>1.0</td><td>1.0</td><td>null</td><td>0.0</td></tr><tr><td>&quot;75%&quot;</td><td>59.0</td><td>75.0</td><td>16.0</td><td>15.0</td><td>10.0</td><td>9.0</td><td>null</td><td>null</td><td>2.0</td><td>2.0</td><td>null</td><td>1.0</td></tr><tr><td>&quot;max&quot;</td><td>100.0</td><td>100.0</td><td>18.0</td><td>18.0</td><td>12.0</td><td>12.0</td><td>&quot;Others&quot;</td><td>&quot;Others&quot;</td><td>2.0</td><td>2.0</td><td>&quot;zzzz hammmyy Call me sexist bu…</td><td>1.0</td></tr></tbody></table></div>"
      ],
      "text/plain": [
       "shape: (9, 13)\n",
       "┌───────────┬───────────┬───────────┬───────────┬───┬───────────┬───────────┬───────────┬──────────┐\n",
       "│ statistic ┆ User1 ID  ┆ User2 ID  ┆ User1 Age ┆ … ┆ User1 Gen ┆ User2 Gen ┆ Message   ┆ Label    │\n",
       "│ ---       ┆ ---       ┆ ---       ┆ ---       ┆   ┆ der_encod ┆ der_encod ┆ ---       ┆ ---      │\n",
       "│ str       ┆ f64       ┆ f64       ┆ f64       ┆   ┆ ed        ┆ ed        ┆ str       ┆ f64      │\n",
       "│           ┆           ┆           ┆           ┆   ┆ ---       ┆ ---       ┆           ┆          │\n",
       "│           ┆           ┆           ┆           ┆   ┆ f64       ┆ f64       ┆           ┆          │\n",
       "╞═══════════╪═══════════╪═══════════╪═══════════╪═══╪═══════════╪═══════════╪═══════════╪══════════╡\n",
       "│ count     ┆ 90356.0   ┆ 90356.0   ┆ 90356.0   ┆ … ┆ 90356.0   ┆ 90356.0   ┆ 90356     ┆ 90356.0  │\n",
       "│ null_coun ┆ 0.0       ┆ 0.0       ┆ 0.0       ┆ … ┆ 0.0       ┆ 0.0       ┆ 0         ┆ 0.0      │\n",
       "│ t         ┆           ┆           ┆           ┆   ┆           ┆           ┆           ┆          │\n",
       "│ mean      ┆ 37.839889 ┆ 50.404489 ┆ 12.872183 ┆ … ┆ 1.105981  ┆ 1.142592  ┆ null      ┆ 0.340619 │\n",
       "│ std       ┆ 27.877329 ┆ 28.737165 ┆ 3.206899  ┆ … ┆ 0.818922  ┆ 0.84821   ┆ null      ┆ 0.47392  │\n",
       "│ min       ┆ 1.0       ┆ 1.0       ┆ 8.0       ┆ … ┆ 0.0       ┆ 0.0       ┆ A         ┆ 0.0      │\n",
       "│           ┆           ┆           ┆           ┆   ┆           ┆           ┆ suck on   ┆          │\n",
       "│           ┆           ┆           ┆           ┆   ┆           ┆           ┆ that      ┆          │\n",
       "│           ┆           ┆           ┆           ┆   ┆           ┆           ┆ whores    ┆          │\n",
       "│           ┆           ┆           ┆           ┆   ┆           ┆           ┆ MKR       ┆          │\n",
       "│ 25%       ┆ 14.0      ┆ 26.0      ┆ 10.0      ┆ … ┆ 0.0       ┆ 0.0       ┆ null      ┆ 0.0      │\n",
       "│ 50%       ┆ 32.0      ┆ 50.0      ┆ 13.0      ┆ … ┆ 1.0       ┆ 1.0       ┆ null      ┆ 0.0      │\n",
       "│ 75%       ┆ 59.0      ┆ 75.0      ┆ 16.0      ┆ … ┆ 2.0       ┆ 2.0       ┆ null      ┆ 1.0      │\n",
       "│ max       ┆ 100.0     ┆ 100.0     ┆ 18.0      ┆ … ┆ 2.0       ┆ 2.0       ┆ zzzz      ┆ 1.0      │\n",
       "│           ┆           ┆           ┆           ┆   ┆           ┆           ┆ hammmyy   ┆          │\n",
       "│           ┆           ┆           ┆           ┆   ┆           ┆           ┆ Call me   ┆          │\n",
       "│           ┆           ┆           ┆           ┆   ┆           ┆           ┆ sexist    ┆          │\n",
       "│           ┆           ┆           ┆           ┆   ┆           ┆           ┆ bu…       ┆          │\n",
       "└───────────┴───────────┴───────────┴───────────┴───┴───────────┴───────────┴───────────┴──────────┘"
      ]
     },
     "execution_count": 3,
     "metadata": {},
     "output_type": "execute_result"
    }
   ],
   "source": [
    "df.describe()"
   ]
  },
  {
   "cell_type": "code",
   "execution_count": 11,
   "id": "7fc72276-5743-46d9-a462-1c8dd23ab711",
   "metadata": {},
   "outputs": [
    {
     "data": {
      "text/plain": [
       "<seaborn.axisgrid.FacetGrid at 0x77712407d590>"
      ]
     },
     "execution_count": 11,
     "metadata": {},
     "output_type": "execute_result"
    },
    {
     "data": {
      "image/png": "[encoded data removed]",
      "text/plain": [
       "<Figure size 3300x300 with 11 Axes>"
      ]
     },
     "metadata": {},
     "output_type": "display_data"
    }
   ],
   "source": [
    "import seaborn as sns\n",
    "df_pan = df.to_pandas()\n",
    "g = sns.FacetGrid(df_pan, col= )\n",
    "g"
   ]
  },
  {
   "cell_type": "code",
   "execution_count": 10,
   "id": "ae031985-058e-40fb-a181-9087a019be89",
   "metadata": {},
   "outputs": [
    {
     "data": {
      "text/html": [
       "<div>\n",
       "<style scoped>\n",
       "    .dataframe tbody tr th:only-of-type {\n",
       "        vertical-align: middle;\n",
       "    }\n",
       "\n",
       "    .dataframe tbody tr th {\n",
       "        vertical-align: top;\n",
       "    }\n",
       "\n",
       "    .dataframe thead th {\n",
       "        text-align: right;\n",
       "    }\n",
       "</style>\n",
       "<table border=\"1\" class=\"dataframe\">\n",
       "  <thead>\n",
       "    <tr style=\"text-align: right;\">\n",
       "      <th></th>\n",
       "      <th>User1 ID</th>\n",
       "      <th>User2 ID</th>\n",
       "      <th>User1 Age</th>\n",
       "      <th>User2 Age</th>\n",
       "      <th>User1 Grade</th>\n",
       "      <th>User2 Grade</th>\n",
       "      <th>User1 Gender</th>\n",
       "      <th>User2 Gender</th>\n",
       "      <th>User1 Gender_encoded</th>\n",
       "      <th>User2 Gender_encoded</th>\n",
       "      <th>Message</th>\n",
       "      <th>Label</th>\n",
       "    </tr>\n",
       "  </thead>\n",
       "  <tbody>\n",
       "    <tr>\n",
       "      <th>0</th>\n",
       "      <td>1</td>\n",
       "      <td>2</td>\n",
       "      <td>11</td>\n",
       "      <td>15</td>\n",
       "      <td>5</td>\n",
       "      <td>9</td>\n",
       "      <td>Others</td>\n",
       "      <td>Male</td>\n",
       "      <td>2</td>\n",
       "      <td>1</td>\n",
       "      <td>bye bye dear bajaj  i got some better work to ...</td>\n",
       "      <td>1</td>\n",
       "    </tr>\n",
       "    <tr>\n",
       "      <th>1</th>\n",
       "      <td>1</td>\n",
       "      <td>2</td>\n",
       "      <td>11</td>\n",
       "      <td>15</td>\n",
       "      <td>5</td>\n",
       "      <td>9</td>\n",
       "      <td>Others</td>\n",
       "      <td>Male</td>\n",
       "      <td>2</td>\n",
       "      <td>1</td>\n",
       "      <td>Haha your so funny you sit on wikipedia all da...</td>\n",
       "      <td>1</td>\n",
       "    </tr>\n",
       "    <tr>\n",
       "      <th>2</th>\n",
       "      <td>1</td>\n",
       "      <td>2</td>\n",
       "      <td>11</td>\n",
       "      <td>15</td>\n",
       "      <td>5</td>\n",
       "      <td>9</td>\n",
       "      <td>Others</td>\n",
       "      <td>Male</td>\n",
       "      <td>2</td>\n",
       "      <td>1</td>\n",
       "      <td>My problem is people talking out of their asse...</td>\n",
       "      <td>1</td>\n",
       "    </tr>\n",
       "    <tr>\n",
       "      <th>3</th>\n",
       "      <td>1</td>\n",
       "      <td>2</td>\n",
       "      <td>11</td>\n",
       "      <td>15</td>\n",
       "      <td>5</td>\n",
       "      <td>9</td>\n",
       "      <td>Others</td>\n",
       "      <td>Male</td>\n",
       "      <td>2</td>\n",
       "      <td>1</td>\n",
       "      <td>Article updated</td>\n",
       "      <td>0</td>\n",
       "    </tr>\n",
       "    <tr>\n",
       "      <th>4</th>\n",
       "      <td>1</td>\n",
       "      <td>2</td>\n",
       "      <td>11</td>\n",
       "      <td>15</td>\n",
       "      <td>5</td>\n",
       "      <td>9</td>\n",
       "      <td>Others</td>\n",
       "      <td>Male</td>\n",
       "      <td>2</td>\n",
       "      <td>1</td>\n",
       "      <td>Well arent you phucking special Its easy to ha...</td>\n",
       "      <td>1</td>\n",
       "    </tr>\n",
       "    <tr>\n",
       "      <th>...</th>\n",
       "      <td>...</td>\n",
       "      <td>...</td>\n",
       "      <td>...</td>\n",
       "      <td>...</td>\n",
       "      <td>...</td>\n",
       "      <td>...</td>\n",
       "      <td>...</td>\n",
       "      <td>...</td>\n",
       "      <td>...</td>\n",
       "      <td>...</td>\n",
       "      <td>...</td>\n",
       "      <td>...</td>\n",
       "    </tr>\n",
       "    <tr>\n",
       "      <th>90351</th>\n",
       "      <td>100</td>\n",
       "      <td>98</td>\n",
       "      <td>17</td>\n",
       "      <td>10</td>\n",
       "      <td>11</td>\n",
       "      <td>4</td>\n",
       "      <td>Others</td>\n",
       "      <td>Others</td>\n",
       "      <td>2</td>\n",
       "      <td>2</td>\n",
       "      <td>No youre right it was a lame idea</td>\n",
       "      <td>0</td>\n",
       "    </tr>\n",
       "    <tr>\n",
       "      <th>90352</th>\n",
       "      <td>100</td>\n",
       "      <td>99</td>\n",
       "      <td>17</td>\n",
       "      <td>11</td>\n",
       "      <td>11</td>\n",
       "      <td>5</td>\n",
       "      <td>Others</td>\n",
       "      <td>Others</td>\n",
       "      <td>2</td>\n",
       "      <td>2</td>\n",
       "      <td>break stuff   did you really break things when...</td>\n",
       "      <td>0</td>\n",
       "    </tr>\n",
       "    <tr>\n",
       "      <th>90353</th>\n",
       "      <td>100</td>\n",
       "      <td>99</td>\n",
       "      <td>17</td>\n",
       "      <td>11</td>\n",
       "      <td>11</td>\n",
       "      <td>5</td>\n",
       "      <td>Others</td>\n",
       "      <td>Others</td>\n",
       "      <td>2</td>\n",
       "      <td>2</td>\n",
       "      <td>Stifle You might like to consult this page</td>\n",
       "      <td>0</td>\n",
       "    </tr>\n",
       "    <tr>\n",
       "      <th>90354</th>\n",
       "      <td>100</td>\n",
       "      <td>99</td>\n",
       "      <td>17</td>\n",
       "      <td>11</td>\n",
       "      <td>11</td>\n",
       "      <td>5</td>\n",
       "      <td>Others</td>\n",
       "      <td>Others</td>\n",
       "      <td>2</td>\n",
       "      <td>2</td>\n",
       "      <td>Since the admin has already blocked MOVE of th...</td>\n",
       "      <td>0</td>\n",
       "    </tr>\n",
       "    <tr>\n",
       "      <th>90355</th>\n",
       "      <td>100</td>\n",
       "      <td>99</td>\n",
       "      <td>17</td>\n",
       "      <td>11</td>\n",
       "      <td>11</td>\n",
       "      <td>5</td>\n",
       "      <td>Others</td>\n",
       "      <td>Others</td>\n",
       "      <td>2</td>\n",
       "      <td>2</td>\n",
       "      <td>Ill apologize to terry but bear in mind that h...</td>\n",
       "      <td>0</td>\n",
       "    </tr>\n",
       "  </tbody>\n",
       "</table>\n",
       "<p>90356 rows × 12 columns</p>\n",
       "</div>"
      ],
      "text/plain": [
       "       User1 ID  User2 ID  User1 Age  User2 Age  User1 Grade  User2 Grade  \\\n",
       "0             1         2         11         15            5            9   \n",
       "1             1         2         11         15            5            9   \n",
       "2             1         2         11         15            5            9   \n",
       "3             1         2         11         15            5            9   \n",
       "4             1         2         11         15            5            9   \n",
       "...         ...       ...        ...        ...          ...          ...   \n",
       "90351       100        98         17         10           11            4   \n",
       "90352       100        99         17         11           11            5   \n",
       "90353       100        99         17         11           11            5   \n",
       "90354       100        99         17         11           11            5   \n",
       "90355       100        99         17         11           11            5   \n",
       "\n",
       "      User1 Gender User2 Gender  User1 Gender_encoded  User2 Gender_encoded  \\\n",
       "0           Others         Male                     2                     1   \n",
       "1           Others         Male                     2                     1   \n",
       "2           Others         Male                     2                     1   \n",
       "3           Others         Male                     2                     1   \n",
       "4           Others         Male                     2                     1   \n",
       "...            ...          ...                   ...                   ...   \n",
       "90351       Others       Others                     2                     2   \n",
       "90352       Others       Others                     2                     2   \n",
       "90353       Others       Others                     2                     2   \n",
       "90354       Others       Others                     2                     2   \n",
       "90355       Others       Others                     2                     2   \n",
       "\n",
       "                                                 Message  Label  \n",
       "0      bye bye dear bajaj  i got some better work to ...      1  \n",
       "1      Haha your so funny you sit on wikipedia all da...      1  \n",
       "2      My problem is people talking out of their asse...      1  \n",
       "3                                        Article updated      0  \n",
       "4      Well arent you phucking special Its easy to ha...      1  \n",
       "...                                                  ...    ...  \n",
       "90351                  No youre right it was a lame idea      0  \n",
       "90352  break stuff   did you really break things when...      0  \n",
       "90353         Stifle You might like to consult this page      0  \n",
       "90354  Since the admin has already blocked MOVE of th...      0  \n",
       "90355  Ill apologize to terry but bear in mind that h...      0  \n",
       "\n",
       "[90356 rows x 12 columns]"
      ]
     },
     "execution_count": 10,
     "metadata": {},
     "output_type": "execute_result"
    }
   ],
   "source": [
    "df_pan"
   ]
  },
  {
   "cell_type": "code",
   "execution_count": 80,
   "id": "3a4ceb47-2d4a-4d75-8023-42f3530a8d3a",
   "metadata": {},
   "outputs": [
    {
     "data": {
      "image/png": "[encoded data removed]",
      "text/plain": [
       "<Figure size 2000x1600 with 2 Axes>"
      ]
     },
     "metadata": {},
     "output_type": "display_data"
    }
   ],
   "source": [
    "columns = {col for col in df.columns if col.endswith(\"Grade\")}\n",
    "sns.color_palette(\"hls\", 8)\n",
    "fig, axes = plt.subplots(3, 3, figsize=(20, 16))\n",
    "axes = axes.flatten()\n",
    "for i, col in enumerate(columns):\n",
    "    sns.countplot(data=df, x= col, ax=axes[i], hue= \"Label\")\n",
    "    axes[i].set_title(f\"{col}\")\n",
    "\n",
    "for j in range(len(columns), len(axes)):\n",
    "    fig.delaxes(axes[j])\n",
    "\n",
    "# Adjust layout\n",
    "plt.tight_layout()\n",
    "plt.show()"
   ]
  },
  {
   "cell_type": "code",
   "execution_count": 67,
   "id": "763f2bc4-56e2-4414-a27c-7f92fa017cdc",
   "metadata": {},
   "outputs": [
    {
     "data": {
      "image/png": "[encoded data removed]",
      "text/plain": [
       "<Figure size 2000x1600 with 2 Axes>"
      ]
     },
     "metadata": {},
     "output_type": "display_data"
    }
   ],
   "source": [
    "columns = {col for col in df.columns if col.endswith(\"Age\")}\n",
    "sns.color_palette(\"hls\", 8)\n",
    "fig, axes = plt.subplots(3, 3, figsize=(20, 16))\n",
    "axes = axes.flatten()\n",
    "for i, col in enumerate(columns):\n",
    "    sns.boxplot(data=df, y= col, ax=axes[i])\n",
    "    axes[i].set_title(f\"{col}\")\n",
    "\n",
    "for j in range(len(columns), len(axes)):\n",
    "    fig.delaxes(axes[j])\n",
    "\n",
    "# Adjust layout\n",
    "plt.tight_layout()\n",
    "plt.show()"
   ]
  },
  {
   "cell_type": "code",
   "execution_count": 78,
   "id": "3eb1be6b-2fb3-43b8-bc2d-236273b32d5c",
   "metadata": {},
   "outputs": [
    {
     "data": {
      "image/png": "[encoded data removed]",
      "text/plain": [
       "<Figure size 2000x1600 with 2 Axes>"
      ]
     },
     "metadata": {},
     "output_type": "display_data"
    }
   ],
   "source": [
    "columns = {col for col in df.columns if col.endswith(\"Age\")}\n",
    "sns.color_palette(\"hls\", 8)\n",
    "fig, axes = plt.subplots(3, 3, figsize=(20, 16))\n",
    "axes = axes.flatten()\n",
    "for i, col in enumerate(columns):\n",
    "    sns.countplot(data=df, x= col, hue= \"User1 Gender\", ax=axes[i])\n",
    "    axes[i].set_title(f\"{col}\")\n",
    "\n",
    "for j in range(len(columns), len(axes)):\n",
    "    fig.delaxes(axes[j])\n",
    "\n",
    "# Adjust layout\n",
    "plt.tight_layout()\n",
    "plt.show()"
   ]
  },
  {
   "cell_type": "code",
   "execution_count": 81,
   "id": "d097999c-58b3-4264-802f-a125198e59ef",
   "metadata": {},
   "outputs": [
    {
     "data": {
      "image/png": "[encoded data removed]",
      "text/plain": [
       "<Figure size 2000x1600 with 2 Axes>"
      ]
     },
     "metadata": {},
     "output_type": "display_data"
    }
   ],
   "source": [
    "columns = {col for col in df.columns if col.endswith(\"Age\")}\n",
    "fig, axes = plt.subplots(3, 3, figsize=(20, 16))\n",
    "axes = axes.flatten()\n",
    "for i, col in enumerate(columns):\n",
    "    sns.countplot(data=df, x= col, hue= \"Label\", ax=axes[i])\n",
    "    axes[i].set_title(f\"{col}\")\n",
    "\n",
    "for j in range(len(columns), len(axes)):\n",
    "    fig.delaxes(axes[j])\n",
    "\n",
    "# Adjust layout\n",
    "plt.tight_layout()\n",
    "plt.show()"
   ]
  },
  {
   "cell_type": "code",
   "execution_count": null,
   "id": "029045d4-c09b-4d79-a383-53a72756899c",
   "metadata": {},
   "outputs": [],
   "source": []
  }
 ],
 "metadata": {
  "kernelspec": {
   "display_name": "Python 3 (ipykernel)",
   "language": "python",
   "name": "python3"
  },
  "language_info": {
   "codemirror_mode": {
    "name": "ipython",
    "version": 3
   },
   "file_extension": ".py",
   "mimetype": "text/x-python",
   "name": "python",
   "nbconvert_exporter": "python",
   "pygments_lexer": "ipython3",
   "version": "3.11.11"
  }
 },
 "nbformat": 4,
 "nbformat_minor": 5
}
